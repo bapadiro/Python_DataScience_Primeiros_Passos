{
  "nbformat": 4,
  "nbformat_minor": 0,
  "metadata": {
    "colab": {
      "provenance": [],
      "toc_visible": true,
      "authorship_tag": "ABX9TyPa+OAeWaRxFH849wb7JaRf",
      "include_colab_link": true
    },
    "kernelspec": {
      "name": "python3",
      "display_name": "Python 3"
    },
    "language_info": {
      "name": "python"
    }
  },
  "cells": [
    {
      "cell_type": "markdown",
      "metadata": {
        "id": "view-in-github",
        "colab_type": "text"
      },
      "source": [
        "<a href=\"https://colab.research.google.com/github/bapadiro/Python_DataScience_Primeiros_Passos/blob/main/manipulando_dados.ipynb\" target=\"_parent\"><img src=\"https://colab.research.google.com/assets/colab-badge.svg\" alt=\"Open In Colab\"/></a>"
      ]
    },
    {
      "cell_type": "markdown",
      "source": [
        "##Começando com Python..."
      ],
      "metadata": {
        "id": "L8nK64YzJXa_"
      }
    },
    {
      "cell_type": "code",
      "execution_count": null,
      "metadata": {
        "id": "YKlR6T2aENQA",
        "colab": {
          "base_uri": "https://localhost:8080/"
        },
        "outputId": "4b7157a1-796a-4d6c-f19e-f127897b5f4d"
      },
      "outputs": [
        {
          "output_type": "stream",
          "name": "stdout",
          "text": [
            "Olá Mundo!\n"
          ]
        }
      ],
      "source": [
        "print('Olá Mundo!')"
      ]
    },
    {
      "cell_type": "code",
      "source": [
        "print(29)"
      ],
      "metadata": {
        "colab": {
          "base_uri": "https://localhost:8080/"
        },
        "id": "4_gusHyJAfk8",
        "outputId": "ecf0ce77-6258-45d5-8deb-5ab93f288c6f"
      },
      "execution_count": null,
      "outputs": [
        {
          "output_type": "stream",
          "name": "stdout",
          "text": [
            "29\n"
          ]
        }
      ]
    },
    {
      "cell_type": "code",
      "source": [
        "print('Bárbara Diogo,', 29, 'Anos')"
      ],
      "metadata": {
        "colab": {
          "base_uri": "https://localhost:8080/"
        },
        "id": "V-0EnRE3AkhX",
        "outputId": "3d8e2eed-e285-45c6-92eb-5e8111aff1c7"
      },
      "execution_count": null,
      "outputs": [
        {
          "output_type": "stream",
          "name": "stdout",
          "text": [
            "Bárbara Diogo, 29 Anos\n"
          ]
        }
      ]
    },
    {
      "cell_type": "code",
      "source": [
        "print('Escola de Dados Alura!')"
      ],
      "metadata": {
        "colab": {
          "base_uri": "https://localhost:8080/"
        },
        "id": "paZa70KQArTN",
        "outputId": "1cdd19db-633a-42bd-ecb3-0f9588ab6ae4"
      },
      "execution_count": null,
      "outputs": [
        {
          "output_type": "stream",
          "name": "stdout",
          "text": [
            "Escola de Dados Alura!\n"
          ]
        }
      ]
    },
    {
      "cell_type": "markdown",
      "source": [
        "##Manipulando Dados com Python\n",
        "**int: número inteiro |**\n",
        "**float: números flutuantes |**\n",
        "**str: string, texto |**\n",
        "**bool: lógico, verdadeiro ou falso**"
      ],
      "metadata": {
        "id": "Xj6z0_aUJglo"
      }
    },
    {
      "cell_type": "code",
      "source": [
        "idade = 5"
      ],
      "metadata": {
        "id": "t_S7bqEZJwZj"
      },
      "execution_count": 20,
      "outputs": []
    },
    {
      "cell_type": "code",
      "source": [
        "print(idade)"
      ],
      "metadata": {
        "colab": {
          "base_uri": "https://localhost:8080/"
        },
        "id": "37s50vk8J5jv",
        "outputId": "b97d494c-591b-4d7a-a0ab-21d925cdd1e8"
      },
      "execution_count": 22,
      "outputs": [
        {
          "output_type": "stream",
          "name": "stdout",
          "text": [
            "5\n"
          ]
        }
      ]
    },
    {
      "cell_type": "code",
      "source": [
        "idade = 10\n",
        "print(idade)"
      ],
      "metadata": {
        "colab": {
          "base_uri": "https://localhost:8080/"
        },
        "id": "6xoNfaYDJ8fN",
        "outputId": "42207329-b28f-40cc-e123-25e5ad102051"
      },
      "execution_count": 23,
      "outputs": [
        {
          "output_type": "stream",
          "name": "stdout",
          "text": [
            "10\n"
          ]
        }
      ]
    },
    {
      "cell_type": "code",
      "source": [
        "idade = 15\n",
        "idade"
      ],
      "metadata": {
        "colab": {
          "base_uri": "https://localhost:8080/"
        },
        "id": "KRmDSXWpKJZP",
        "outputId": "adde5e58-c3ae-48d2-83f3-cf5ddbb2c7b3"
      },
      "execution_count": 24,
      "outputs": [
        {
          "output_type": "execute_result",
          "data": {
            "text/plain": [
              "15"
            ]
          },
          "metadata": {},
          "execution_count": 24
        }
      ]
    },
    {
      "cell_type": "code",
      "source": [
        "nome = 'Eric'\n",
        "nome"
      ],
      "metadata": {
        "colab": {
          "base_uri": "https://localhost:8080/",
          "height": 35
        },
        "id": "_0HeuidSKWM0",
        "outputId": "ccecde1e-39ab-4c59-c3ea-eaced5ac1714"
      },
      "execution_count": 25,
      "outputs": [
        {
          "output_type": "execute_result",
          "data": {
            "text/plain": [
              "'Eric'"
            ],
            "application/vnd.google.colaboratory.intrinsic+json": {
              "type": "string"
            }
          },
          "metadata": {},
          "execution_count": 25
        }
      ]
    },
    {
      "cell_type": "code",
      "source": [
        "'''para saber a classe de cada elemento usamos a função type()'''\n",
        "i = 5\n",
        "type(i)"
      ],
      "metadata": {
        "colab": {
          "base_uri": "https://localhost:8080/"
        },
        "id": "EsD5TcHqKob8",
        "outputId": "10e01b06-fe84-47ac-b380-77681f31e880"
      },
      "execution_count": 26,
      "outputs": [
        {
          "output_type": "execute_result",
          "data": {
            "text/plain": [
              "int"
            ]
          },
          "metadata": {},
          "execution_count": 26
        }
      ]
    },
    {
      "cell_type": "code",
      "source": [
        "f = 9.5\n",
        "type(f)"
      ],
      "metadata": {
        "colab": {
          "base_uri": "https://localhost:8080/"
        },
        "id": "2tAhBHqIMJGU",
        "outputId": "696e752d-b6da-4fb4-a2a8-b2254cd39b62"
      },
      "execution_count": 28,
      "outputs": [
        {
          "output_type": "execute_result",
          "data": {
            "text/plain": [
              "float"
            ]
          },
          "metadata": {},
          "execution_count": 28
        }
      ]
    },
    {
      "cell_type": "code",
      "source": [
        "s = 'Data Sciente'\n",
        "type(s)"
      ],
      "metadata": {
        "colab": {
          "base_uri": "https://localhost:8080/"
        },
        "id": "Vcvw5UGGMN1n",
        "outputId": "6374bd2e-1c70-4a8f-8985-a96cb0b54aaf"
      },
      "execution_count": 29,
      "outputs": [
        {
          "output_type": "execute_result",
          "data": {
            "text/plain": [
              "str"
            ]
          },
          "metadata": {},
          "execution_count": 29
        }
      ]
    },
    {
      "cell_type": "code",
      "source": [
        "b = True\n",
        "type(b)"
      ],
      "metadata": {
        "colab": {
          "base_uri": "https://localhost:8080/"
        },
        "id": "kaQVHNMgMT7o",
        "outputId": "76e941a3-502d-4375-b846-b3d579c46433"
      },
      "execution_count": 30,
      "outputs": [
        {
          "output_type": "execute_result",
          "data": {
            "text/plain": [
              "bool"
            ]
          },
          "metadata": {},
          "execution_count": 30
        }
      ]
    },
    {
      "cell_type": "code",
      "source": [
        "'''Em conjunto de dados escolares podemos ter vários tipos de informações'''\n",
        "'''Digamos que tenhamos acesso à ficha de dados do aluno Fabrício Daniel'''\n",
        "'''Como transformarmos ela em variáveis no Python?'''\n",
        "\n",
        "nome_aluno = 'Fabrício Daniel'\n",
        "idade_aluno = 15\n",
        "media_aluno = 8.45\n",
        "situacao_aprovado = True\n",
        "print(nome_aluno, idade_aluno, media_aluno, situacao_aprovado)"
      ],
      "metadata": {
        "colab": {
          "base_uri": "https://localhost:8080/"
        },
        "id": "dbF_ShZNMYqr",
        "outputId": "82fd6fe2-4743-41d0-ad77-bd4bebaf1ee3"
      },
      "execution_count": 31,
      "outputs": [
        {
          "output_type": "stream",
          "name": "stdout",
          "text": [
            "Fabrício Daniel 15 8.45 True\n"
          ]
        }
      ]
    },
    {
      "cell_type": "code",
      "source": [
        "'''Temos uma tabela de informação de empregos quanto ao cargo, quantidade'''\n",
        "'''de pessoas empregadas e o salário'''\n",
        "'''Segurança 5 3000'''\n",
        "'''Docente 16 6000'''\n",
        "'''Diretoria 1 12500'''\n",
        "'''Precisamos trabalhar com esses dados forncendo: '''\n",
        "'''A quantidade total de empregados'''\n",
        "'''A diferença entre o salário mais baixo e mais alto'''\n",
        "'''A média ponderada da faixa salarial da escola'''\n",
        "\n",
        "q_seguranca = 5\n",
        "s_seguranca = 3000\n",
        "q_docente = 16\n",
        "s_docente = 6000\n",
        "q_diretoria = 1\n",
        "s_diretoria = 12500\n"
      ],
      "metadata": {
        "id": "0sGYWV_9NHNU"
      },
      "execution_count": 32,
      "outputs": []
    },
    {
      "cell_type": "code",
      "source": [
        "'''Quantidade total de empregados'''\n",
        "total_empregados = q_seguranca + q_docente + q_diretoria\n",
        "total_empregados"
      ],
      "metadata": {
        "colab": {
          "base_uri": "https://localhost:8080/"
        },
        "id": "tAxoOIwyPdwx",
        "outputId": "eb62cd8c-6ce7-4600-af6f-2fe815e06149"
      },
      "execution_count": 33,
      "outputs": [
        {
          "output_type": "execute_result",
          "data": {
            "text/plain": [
              "22"
            ]
          },
          "metadata": {},
          "execution_count": 33
        }
      ]
    },
    {
      "cell_type": "code",
      "source": [
        "'''Diferença entre o salário mais baixo e mais alto'''\n",
        "diferenca_salario = s_diretoria - s_seguranca\n",
        "diferenca_salario"
      ],
      "metadata": {
        "colab": {
          "base_uri": "https://localhost:8080/"
        },
        "id": "qmMRu7npPnzZ",
        "outputId": "b0f420c4-3b6b-488a-dc1c-f931c8222ea7"
      },
      "execution_count": 34,
      "outputs": [
        {
          "output_type": "execute_result",
          "data": {
            "text/plain": [
              "9500"
            ]
          },
          "metadata": {},
          "execution_count": 34
        }
      ]
    },
    {
      "cell_type": "code",
      "source": [
        "'''A média ponderada da faixa salarial da escola'''\n",
        "media_ponderada = (q_seguranca * s_seguranca + q_docente * s_docente + q_diretoria * s_diretoria) / (total_empregados)\n",
        "media_ponderada"
      ],
      "metadata": {
        "colab": {
          "base_uri": "https://localhost:8080/"
        },
        "id": "7E2vg5uFP2zH",
        "outputId": "33336f30-0f92-47db-cfb9-046f733f679f"
      },
      "execution_count": 35,
      "outputs": [
        {
          "output_type": "execute_result",
          "data": {
            "text/plain": [
              "5613.636363636364"
            ]
          },
          "metadata": {},
          "execution_count": 35
        }
      ]
    },
    {
      "cell_type": "code",
      "source": [
        "'''Potencia definida'''\n",
        "2**3"
      ],
      "metadata": {
        "colab": {
          "base_uri": "https://localhost:8080/"
        },
        "id": "XdYO2zjuQTxt",
        "outputId": "032cc25b-7045-495f-ed54-bdc4936623dd"
      },
      "execution_count": 36,
      "outputs": [
        {
          "output_type": "execute_result",
          "data": {
            "text/plain": [
              "8"
            ]
          },
          "metadata": {},
          "execution_count": 36
        }
      ]
    },
    {
      "cell_type": "code",
      "source": [
        "operador = 2\n",
        "potencia = 3\n",
        "operador ** potencia"
      ],
      "metadata": {
        "colab": {
          "base_uri": "https://localhost:8080/"
        },
        "id": "cW5TR3XNQv3U",
        "outputId": "a5a0ea73-5d8b-4d4f-d0c3-17e4c8bb026b"
      },
      "execution_count": 37,
      "outputs": [
        {
          "output_type": "execute_result",
          "data": {
            "text/plain": [
              "8"
            ]
          },
          "metadata": {},
          "execution_count": 37
        }
      ]
    },
    {
      "cell_type": "code",
      "source": [
        "'''Return resultado da divisao inteira (é o número que sobra quando a divisão não é exata!!!)'''\n",
        "7%3"
      ],
      "metadata": {
        "colab": {
          "base_uri": "https://localhost:8080/"
        },
        "id": "mRqY0LAfQ1IB",
        "outputId": "c32f2137-2042-4852-8630-82524a4e5257"
      },
      "execution_count": 38,
      "outputs": [
        {
          "output_type": "execute_result",
          "data": {
            "text/plain": [
              "1"
            ]
          },
          "metadata": {},
          "execution_count": 38
        }
      ]
    },
    {
      "cell_type": "code",
      "source": [
        "dividendo = 7\n",
        "divisor = 3\n",
        "dividendo % divisor"
      ],
      "metadata": {
        "colab": {
          "base_uri": "https://localhost:8080/"
        },
        "id": "XWZfGJ6fRFUU",
        "outputId": "3c67aadf-e72b-48fc-eb53-58257af02306"
      },
      "execution_count": 39,
      "outputs": [
        {
          "output_type": "execute_result",
          "data": {
            "text/plain": [
              "1"
            ]
          },
          "metadata": {},
          "execution_count": 39
        }
      ]
    },
    {
      "cell_type": "code",
      "source": [
        "'''Return o resultado da divisao inteira entre dois números, ou seja, return apenas a parte inteira!!!'''\n",
        "7//3"
      ],
      "metadata": {
        "colab": {
          "base_uri": "https://localhost:8080/"
        },
        "id": "42yS1P9YRLZo",
        "outputId": "03a83505-ea5c-49ad-acee-2770a895ca10"
      },
      "execution_count": 40,
      "outputs": [
        {
          "output_type": "execute_result",
          "data": {
            "text/plain": [
              "2"
            ]
          },
          "metadata": {},
          "execution_count": 40
        }
      ]
    },
    {
      "cell_type": "code",
      "source": [
        "numerador = 7\n",
        "denominador = 3\n",
        "numerador // denominador"
      ],
      "metadata": {
        "colab": {
          "base_uri": "https://localhost:8080/"
        },
        "id": "jf31qCr9Rbrd",
        "outputId": "6614d736-1f07-4e99-acee-93ddae8b9aad"
      },
      "execution_count": 41,
      "outputs": [
        {
          "output_type": "execute_result",
          "data": {
            "text/plain": [
              "2"
            ]
          },
          "metadata": {},
          "execution_count": 41
        }
      ]
    },
    {
      "cell_type": "code",
      "source": [
        "'''Strings são caracterizadas por ter um conjunto de caracteres formando um texto'''\n",
        "'''Strings podem ser criadas ao atribuimos a uma váriavel um dado que esteja ' ou '' '''\n",
        "s1 = 'Alura'\n",
        "s2 = \"Alura\"\n",
        "print(type(s1), type(s2))"
      ],
      "metadata": {
        "colab": {
          "base_uri": "https://localhost:8080/"
        },
        "id": "bsV4Gv-BT9xm",
        "outputId": "237503ec-2a8d-4c1d-981e-f4fc22bf3e13"
      },
      "execution_count": 46,
      "outputs": [
        {
          "output_type": "stream",
          "name": "stdout",
          "text": [
            "<class 'str'> <class 'str'>\n"
          ]
        }
      ]
    },
    {
      "cell_type": "code",
      "source": [
        "'''Método: Funções que são associadas a objetos em Python'''\n",
        "'''As váriaveis textuais contém vários métodos que nos ajudam a formatar strings'''\n",
        "'''Métodos podem ser excecutados seguindo a seguinte estrutura objeto.metodo() - as vezes ñ precisa dos ()'''\n",
        "\n",
        "'''Recebemos uma váriavel com o nome de uma professora da escola para inserirmos no cadastro. No entando,'''\n",
        "'''precisamos tratar esse texto antes de inserirmos no sistema'''\n",
        "texto = ' Geovana Alessandra dias Sanyos '\n",
        "'''Objetivo final é que o nome esteja da seguinte forma:'''"
      ],
      "metadata": {
        "colab": {
          "base_uri": "https://localhost:8080/",
          "height": 35
        },
        "id": "aoWIsAYWUr1f",
        "outputId": "0b4dc478-83cf-478a-fa83-81c36f533305"
      },
      "execution_count": 48,
      "outputs": [
        {
          "output_type": "execute_result",
          "data": {
            "text/plain": [
              "'Objetivo final é que o nome esteja da seguinte forma:'"
            ],
            "application/vnd.google.colaboratory.intrinsic+json": {
              "type": "string"
            }
          },
          "metadata": {},
          "execution_count": 48
        }
      ]
    },
    {
      "cell_type": "code",
      "source": [
        "'''GEOVANA ALESSANDRA DIAS SANTOS| STR.UPPER(). CONVERTE A STR PARA MAIÚSCULAS'''\n",
        "texto.upper()"
      ],
      "metadata": {
        "colab": {
          "base_uri": "https://localhost:8080/",
          "height": 35
        },
        "id": "ZmH2wVu0WHX9",
        "outputId": "5859e219-bc76-46d4-cf27-157300bd0bff"
      },
      "execution_count": 49,
      "outputs": [
        {
          "output_type": "execute_result",
          "data": {
            "text/plain": [
              "' GEOVANA ALESSANDRA DIAS SANYOS '"
            ],
            "application/vnd.google.colaboratory.intrinsic+json": {
              "type": "string"
            }
          },
          "metadata": {},
          "execution_count": 49
        }
      ]
    },
    {
      "cell_type": "code",
      "source": [
        "'''STR.LOWER(). CONVERTE A STR PARA MINÚSCULA'''\n",
        "texto.lower()"
      ],
      "metadata": {
        "colab": {
          "base_uri": "https://localhost:8080/",
          "height": 35
        },
        "id": "d0M1YXX8WTU0",
        "outputId": "2f97b75a-efcd-4150-fe0e-54d7a260129f"
      },
      "execution_count": 50,
      "outputs": [
        {
          "output_type": "execute_result",
          "data": {
            "text/plain": [
              "' geovana alessandra dias sanyos '"
            ],
            "application/vnd.google.colaboratory.intrinsic+json": {
              "type": "string"
            }
          },
          "metadata": {},
          "execution_count": 50
        }
      ]
    },
    {
      "cell_type": "code",
      "source": [
        "'''STR.STRIP(). MÉTODO REMOVE OS ESPAÇOS EM BRANCO DO INÍCIO E DO FIM'''\n",
        "texto.strip()"
      ],
      "metadata": {
        "colab": {
          "base_uri": "https://localhost:8080/",
          "height": 35
        },
        "id": "2N6vEvPfWhkp",
        "outputId": "4738b025-b958-4a9c-da44-e72da085f462"
      },
      "execution_count": 51,
      "outputs": [
        {
          "output_type": "execute_result",
          "data": {
            "text/plain": [
              "'Geovana Alessandra dias Sanyos'"
            ],
            "application/vnd.google.colaboratory.intrinsic+json": {
              "type": "string"
            }
          },
          "metadata": {},
          "execution_count": 51
        }
      ]
    },
    {
      "cell_type": "code",
      "source": [
        "'''STR.REPLACE(). SUBSTITUI TODAS AS OCORRÊNCIAS DO TEXTO \"ANTIGO\" NA STR POR \"NOVO\"'''\n",
        "texto.replace('y','t')"
      ],
      "metadata": {
        "colab": {
          "base_uri": "https://localhost:8080/",
          "height": 35
        },
        "id": "tWGpLjj5Wv-y",
        "outputId": "0aa2a5f9-43a8-4764-df3c-0b650cce9833"
      },
      "execution_count": 52,
      "outputs": [
        {
          "output_type": "execute_result",
          "data": {
            "text/plain": [
              "' Geovana Alessandra dias Santos '"
            ],
            "application/vnd.google.colaboratory.intrinsic+json": {
              "type": "string"
            }
          },
          "metadata": {},
          "execution_count": 52
        }
      ]
    },
    {
      "cell_type": "code",
      "source": [
        "texto = texto.strip().replace('y', 't').upper()\n",
        "texto"
      ],
      "metadata": {
        "colab": {
          "base_uri": "https://localhost:8080/",
          "height": 35
        },
        "id": "RydjK21zXEZB",
        "outputId": "ff0d06c9-4cfc-4e4c-f28b-04046199e503"
      },
      "execution_count": 53,
      "outputs": [
        {
          "output_type": "execute_result",
          "data": {
            "text/plain": [
              "'GEOVANA ALESSANDRA DIAS SANTOS'"
            ],
            "application/vnd.google.colaboratory.intrinsic+json": {
              "type": "string"
            }
          },
          "metadata": {},
          "execution_count": 53
        }
      ]
    },
    {
      "cell_type": "code",
      "source": [
        "'''Coletar e Manipular Dados\n",
        "Em algumas aplicações precisamos coletar valores de uma pessoa do nosso projeto\n",
        "Em Python conswguimos coletar essas informações através do input().\n",
        "que poderá ser substituído por uma variável'''\n",
        "nome = input('Digite o seu nome: ')"
      ],
      "metadata": {
        "colab": {
          "base_uri": "https://localhost:8080/"
        },
        "id": "O6z_2NkfXfYZ",
        "outputId": "f1a0ae1b-2635-402d-8234-0bdeb41062d1"
      },
      "execution_count": 54,
      "outputs": [
        {
          "name": "stdout",
          "output_type": "stream",
          "text": [
            "Digite o seu nome: Bárbara\n"
          ]
        }
      ]
    },
    {
      "cell_type": "code",
      "source": [
        "nome"
      ],
      "metadata": {
        "colab": {
          "base_uri": "https://localhost:8080/",
          "height": 35
        },
        "id": "VOHN5YHXcUgb",
        "outputId": "e29cf01f-5ebd-49b7-d210-7282dd660801"
      },
      "execution_count": 55,
      "outputs": [
        {
          "output_type": "execute_result",
          "data": {
            "text/plain": [
              "'Bárbara'"
            ],
            "application/vnd.google.colaboratory.intrinsic+json": {
              "type": "string"
            }
          },
          "metadata": {},
          "execution_count": 55
        }
      ]
    },
    {
      "cell_type": "code",
      "source": [
        "ano_entrada = input('Digite o Ano de Ingresso da Estudante: ')"
      ],
      "metadata": {
        "colab": {
          "base_uri": "https://localhost:8080/"
        },
        "id": "9wwb89M-ccf-",
        "outputId": "3515aece-a576-4c5e-c2e6-32fc99e610ad"
      },
      "execution_count": 56,
      "outputs": [
        {
          "name": "stdout",
          "output_type": "stream",
          "text": [
            "Digite o Ano de Ingresso da Estudante: 2025\n"
          ]
        }
      ]
    },
    {
      "cell_type": "code",
      "source": [
        "type(ano_entrada)"
      ],
      "metadata": {
        "colab": {
          "base_uri": "https://localhost:8080/"
        },
        "id": "KIes9ia_cx_f",
        "outputId": "c8a7502c-f078-4b7a-9cce-792133eafce0"
      },
      "execution_count": 57,
      "outputs": [
        {
          "output_type": "execute_result",
          "data": {
            "text/plain": [
              "str"
            ]
          },
          "metadata": {},
          "execution_count": 57
        }
      ]
    },
    {
      "cell_type": "code",
      "source": [
        "'''convertando para número inteiro'''\n",
        "ano_entrada = int(input('Digite o Ano de Ingresso da Estudante: '))"
      ],
      "metadata": {
        "colab": {
          "base_uri": "https://localhost:8080/"
        },
        "id": "NoMC6NYpc3ZH",
        "outputId": "0679a626-224c-4a70-9b1e-79e51cd6c666"
      },
      "execution_count": 58,
      "outputs": [
        {
          "name": "stdout",
          "output_type": "stream",
          "text": [
            "Digite o Ano de Ingresso da Estudante: 2025\n"
          ]
        }
      ]
    },
    {
      "cell_type": "code",
      "source": [
        "type(ano_entrada)"
      ],
      "metadata": {
        "colab": {
          "base_uri": "https://localhost:8080/"
        },
        "id": "ukT3l37EdA_i",
        "outputId": "b2ce9382-284b-4fc2-d7f0-849e1afc0b9b"
      },
      "execution_count": 59,
      "outputs": [
        {
          "output_type": "execute_result",
          "data": {
            "text/plain": [
              "int"
            ]
          },
          "metadata": {},
          "execution_count": 59
        }
      ]
    },
    {
      "cell_type": "code",
      "source": [
        "nota_entrada = float(input('Digite a nota do teste para Ingresso: '))\n",
        "print(f'Ano de Entrada: {ano_entrada} - Nota do teste para Ingresso: {nota_entrada}')"
      ],
      "metadata": {
        "colab": {
          "base_uri": "https://localhost:8080/"
        },
        "id": "F9y7R4fUdDep",
        "outputId": "c0fd2483-0d0f-4d7e-f42d-4bdeeb9a66a8"
      },
      "execution_count": 61,
      "outputs": [
        {
          "output_type": "stream",
          "name": "stdout",
          "text": [
            "Digite a nota do teste para Ingresso: 9.0\n",
            "Ano de Entrada: 2025 - Nota do teste para Ingresso: 9.0\n"
          ]
        }
      ]
    },
    {
      "cell_type": "code",
      "source": [
        "'''Tipo de variável vs Palavra Chave\n",
        "string %s\n",
        "inteiro %d\n",
        "float %f\n",
        "caractere %c'''\n",
        "\n",
        "nome_aluno = 'Fabricio Daniel'\n",
        "\n",
        "print('Nome do aluno: %s' %(nome_aluno))"
      ],
      "metadata": {
        "colab": {
          "base_uri": "https://localhost:8080/"
        },
        "id": "gI2EGXf6dvWb",
        "outputId": "6b1c73c6-be4a-47a2-9456-18419da4da02"
      },
      "execution_count": 62,
      "outputs": [
        {
          "output_type": "stream",
          "name": "stdout",
          "text": [
            "Nome do aluno: Fabricio Daniel\n"
          ]
        }
      ]
    },
    {
      "cell_type": "code",
      "source": [
        "'''Caso tenha mais de uma variável, devemos ordená-las conforme seu surgimento no texto e separá-las por vírgula.'''\n",
        "nome_aluno = 'Fabricio Daniel'\n",
        "idade_aluno = 15\n",
        "media_aluno = 8.45\n",
        "\n",
        "print('Nome do aluno é %s, ele tem %d anos e sua média é %f.' %(nome_aluno, idade_aluno, media_aluno))"
      ],
      "metadata": {
        "colab": {
          "base_uri": "https://localhost:8080/"
        },
        "id": "dJoJJoqKexIM",
        "outputId": "27dc7f79-af5c-4a0f-8466-764f9b4eb3b5"
      },
      "execution_count": 63,
      "outputs": [
        {
          "output_type": "stream",
          "name": "stdout",
          "text": [
            "Nome do aluno é Fabricio Daniel, ele tem 15 anos e sua média é 8.450000.\n"
          ]
        }
      ]
    },
    {
      "cell_type": "code",
      "source": [
        "'''podemos quebrar as casas decimais com %Xf (x é a quantidade de casa decimais)'''\n",
        "print('Nome do aluno é %s, ele tem %d anos e sua média é %.2f.' %(nome_aluno, idade_aluno, media_aluno))"
      ],
      "metadata": {
        "colab": {
          "base_uri": "https://localhost:8080/"
        },
        "id": "eHyta19me1HZ",
        "outputId": "847d2759-ace9-4351-f097-d989f81c39bc"
      },
      "execution_count": 64,
      "outputs": [
        {
          "output_type": "stream",
          "name": "stdout",
          "text": [
            "Nome do aluno é Fabricio Daniel, ele tem 15 anos e sua média é 8.45.\n"
          ]
        }
      ]
    },
    {
      "cell_type": "code",
      "source": [
        "'''.format'''\n",
        "nome_aluno = 'Fabricio Daniel'\n",
        "\n",
        "print('Nome do aluno: {}'.format(nome_aluno))"
      ],
      "metadata": {
        "colab": {
          "base_uri": "https://localhost:8080/"
        },
        "id": "yOOfLHP8fCVU",
        "outputId": "58b8ff5d-a368-4e2a-a84d-24e6c053285f"
      },
      "execution_count": 65,
      "outputs": [
        {
          "output_type": "stream",
          "name": "stdout",
          "text": [
            "Nome do aluno: Fabricio Daniel\n"
          ]
        }
      ]
    },
    {
      "cell_type": "code",
      "source": [
        "nome_aluno = 'Fabricio Daniel'\n",
        "idade_aluno = 15\n",
        "media_aluno = 8.45\n",
        "\n",
        "print('Nome do aluno é {}, ele tem {} anos e sua média é {}.' .format(nome_aluno, idade_aluno, media_aluno))"
      ],
      "metadata": {
        "colab": {
          "base_uri": "https://localhost:8080/"
        },
        "id": "UfIkgoaofJAS",
        "outputId": "8d571404-ddd9-4677-a97d-b3baf0f6f9a8"
      },
      "execution_count": 66,
      "outputs": [
        {
          "output_type": "stream",
          "name": "stdout",
          "text": [
            "Nome do aluno é Fabricio Daniel, ele tem 15 anos e sua média é 8.45.\n"
          ]
        }
      ]
    },
    {
      "cell_type": "code",
      "source": [
        "'''\\n é o caractere de nova linha e é usado para pular uma linha no texto (função do Enter)'''\n",
        "print(\"Estudar é um esforço constante,\\nÉ como cultivar uma planta,\\nPrecisamos de dedicação e paciência,\\nPara ver o fruto amadurecer.\")"
      ],
      "metadata": {
        "colab": {
          "base_uri": "https://localhost:8080/"
        },
        "id": "ZR20t8ztfLhT",
        "outputId": "93417ce3-3aca-42b8-cc4a-7fabf3e22880"
      },
      "execution_count": 67,
      "outputs": [
        {
          "output_type": "stream",
          "name": "stdout",
          "text": [
            "Estudar é um esforço constante,\n",
            "É como cultivar uma planta,\n",
            "Precisamos de dedicação e paciência,\n",
            "Para ver o fruto amadurecer.\n"
          ]
        }
      ]
    },
    {
      "cell_type": "code",
      "source": [
        "'''\\t é o caractere de tabulação usado para adicionar um espaço de tabulação no texto'''\n",
        "print('Quantidade\\tQualidade\\n5 amostras\\tAlta\\n3 amostras\\tBaixa')"
      ],
      "metadata": {
        "colab": {
          "base_uri": "https://localhost:8080/"
        },
        "id": "RVU94_RJfWAj",
        "outputId": "5158e1ff-c577-44ac-ddb7-a35f13ddb60b"
      },
      "execution_count": 68,
      "outputs": [
        {
          "output_type": "stream",
          "name": "stdout",
          "text": [
            "Quantidade\tQualidade\n",
            "5 amostras\tAlta\n",
            "3 amostras\tBaixa\n"
          ]
        }
      ]
    },
    {
      "cell_type": "code",
      "source": [
        "'''\\\\ é usado para imprimir uma única barra invertida'''\n",
        "print(\"Caminho do arquivo: C:\\\\arquivos\\\\documento.csv\")"
      ],
      "metadata": {
        "colab": {
          "base_uri": "https://localhost:8080/"
        },
        "id": "MnTpr6yMfbje",
        "outputId": "e8d1d816-3bba-4fec-9d22-3c159499daf5"
      },
      "execution_count": 69,
      "outputs": [
        {
          "output_type": "stream",
          "name": "stdout",
          "text": [
            "Caminho do arquivo: C:\\arquivos\\documento.csv\n"
          ]
        }
      ]
    },
    {
      "cell_type": "code",
      "source": [
        "'''\\\" é usado para imprimir aspas duplas quando estamos trabalhando com uma string\n",
        "criada a partir de aspas duplas \"'''\n",
        "print(\"Ouvi uma vez \\\"Os frutos do conhecimento são os mais doces e duradouros de todos.\\\"\")"
      ],
      "metadata": {
        "colab": {
          "base_uri": "https://localhost:8080/"
        },
        "id": "MK_RD9CXfhpS",
        "outputId": "9a200bab-2249-4aa6-9c62-adfa21ad31c2"
      },
      "execution_count": 70,
      "outputs": [
        {
          "output_type": "stream",
          "name": "stdout",
          "text": [
            "Ouvi uma vez \"Os frutos do conhecimento são os mais doces e duradouros de todos.\"\n"
          ]
        }
      ]
    },
    {
      "cell_type": "code",
      "source": [
        "'''\\' é usado para imprimir aspas simples quando estamos trabalhando com uma string\n",
        "criada a partir de aspas simples ' '''\n",
        "print('Minha professora uma vez disse \\'Estudar é a chave do sucesso.\\' ')"
      ],
      "metadata": {
        "colab": {
          "base_uri": "https://localhost:8080/"
        },
        "id": "HMQeyFR0fpQ-",
        "outputId": "ef86a648-7265-4d93-f5fa-0ccd3ff66abf"
      },
      "execution_count": 71,
      "outputs": [
        {
          "output_type": "stream",
          "name": "stdout",
          "text": [
            "Minha professora uma vez disse 'Estudar é a chave do sucesso.' \n"
          ]
        }
      ]
    },
    {
      "cell_type": "code",
      "source": [],
      "metadata": {
        "id": "3h3jvmAcfvLI"
      },
      "execution_count": null,
      "outputs": []
    },
    {
      "cell_type": "markdown",
      "source": [
        "#Desafio na Prática"
      ],
      "metadata": {
        "id": "VzDme8DngBRS"
      }
    },
    {
      "cell_type": "code",
      "source": [
        "'''Vamos praticar o uso de vários tipos de variáveis e da função input a partir de\n",
        "algumas atividades. Solucione os problemas propostos em código.\n",
        "\n",
        "Coleta e amostragem de dados\n",
        "1- Crie um programa que solicite à pessoa usuária digitar seu nome, e imprima “Olá, [nome]!”.'''\n",
        "nome_usuario = input('Digite o seu nome: ')\n",
        "print(f'Olá {nome_usuario}')"
      ],
      "metadata": {
        "colab": {
          "base_uri": "https://localhost:8080/"
        },
        "id": "uOMGuNdTgGPv",
        "outputId": "f3f4ee98-abbb-4e3b-b409-0eec4feac0b0"
      },
      "execution_count": 2,
      "outputs": [
        {
          "output_type": "stream",
          "name": "stdout",
          "text": [
            "Digite o seu nome: Bárbara\n",
            "Olá Bárbara\n"
          ]
        }
      ]
    },
    {
      "cell_type": "code",
      "source": [
        "'''2- Crie um programa que solicite à pessoa usuária digitar seu nome e idade, e imprima “Olá,\n",
        "[nome], você tem [idade] anos.”.'''\n",
        "nome_2 = input('Digite o seu nome: ')\n",
        "idade_2 = int(input('Digite a sua idade: '))\n",
        "print(f'Olá {nome_2}, você tem {idade_2} anos.')"
      ],
      "metadata": {
        "colab": {
          "base_uri": "https://localhost:8080/"
        },
        "id": "1GkjvECZLKl7",
        "outputId": "61ecd07b-b144-4485-dfe8-7bde3a8a03c5"
      },
      "execution_count": 3,
      "outputs": [
        {
          "output_type": "stream",
          "name": "stdout",
          "text": [
            "Digite o seu nome: Bárbara\n",
            "Digite a sua idade: 29\n",
            "Olá Bárbara, você tem 29 anos.\n"
          ]
        }
      ]
    },
    {
      "cell_type": "code",
      "source": [
        "'''3- Crie um programa que solicite à pessoa usuária digitar seu nome, idade e altura em metros,\n",
        "e imprima “Olá, [nome], você tem [idade] anos e mede [altura] metros!”.'''\n",
        "nome_3 = input('Digite o seu nome: ')\n",
        "idade_3 = int(input('Digite a sua idade: '))\n",
        "altura_3 = float(input('Digite a sua altura: '))\n",
        "print(f'Olá {nome_3}, você tem {idade_3} anos e mede {altura_3} metros!')"
      ],
      "metadata": {
        "colab": {
          "base_uri": "https://localhost:8080/"
        },
        "id": "hlNewWEJLSvX",
        "outputId": "862f5781-b200-497f-9aed-69955385a026"
      },
      "execution_count": 5,
      "outputs": [
        {
          "output_type": "stream",
          "name": "stdout",
          "text": [
            "Digite o seu nome: Bárbara\n",
            "Digite a sua idade: 29\n",
            "Digite a sua altura: 1.58\n",
            "Olá Bárbara, você tem 29 anos e mede 1.58 metros!\n"
          ]
        }
      ]
    },
    {
      "cell_type": "code",
      "source": [
        "'''Calculadora com operadores\n",
        "1- Crie um programa que solicite dois valores numéricos à pessoa usuária e\n",
        "imprima a soma dos dois valores.'''\n",
        "n1 = int(input('Digite um número: '))\n",
        "n2 = int(input('Digite outro número: '))\n",
        "soma = n1 + n2\n",
        "print(f'A soma dos dois números que você escolheu é: {soma}')"
      ],
      "metadata": {
        "colab": {
          "base_uri": "https://localhost:8080/"
        },
        "id": "DZtTP3RbMDAr",
        "outputId": "5e559888-c8ba-44d5-b0b6-fb5db889652f"
      },
      "execution_count": 6,
      "outputs": [
        {
          "output_type": "stream",
          "name": "stdout",
          "text": [
            "Digite um número: 25\n",
            "Digite outro número: 25\n",
            "A soma dos dois números que você escolheu é: 50\n"
          ]
        }
      ]
    },
    {
      "cell_type": "code",
      "source": [
        "'''2- Crie um programa que solicite três valores numéricos à pessoa\n",
        "usuária e imprima a soma dos três valores.'''\n",
        "n1_ = int(input('Digite um número: '))\n",
        "n2_ = int(input('Digite outro número: '))\n",
        "n3_ = int(input('Digite outro número: '))\n",
        "soma_ = n1_ + n2_ + n3_\n",
        "print(f'A soma dos dois três números que você escolheu é: {soma_}')"
      ],
      "metadata": {
        "colab": {
          "base_uri": "https://localhost:8080/"
        },
        "id": "0HV-Ab2aMo4b",
        "outputId": "564ca9d9-e0b4-42d1-9d60-0a61375466c3"
      },
      "execution_count": 7,
      "outputs": [
        {
          "output_type": "stream",
          "name": "stdout",
          "text": [
            "Digite um número: 10\n",
            "Digite outro número: 20\n",
            "Digite outro número: 30\n",
            "A soma dos dois três números que você escolheu é: 60\n"
          ]
        }
      ]
    },
    {
      "cell_type": "code",
      "source": [
        "'''3- Crie um programa que solicite dois valores numéricos à pessoa usuária\n",
        "e imprima a subtração do primeiro pelo o segundo valor.'''\n",
        "n_1 = int(input('Digite um número: '))\n",
        "n_2 = int(input('Digite outro número: '))\n",
        "sub = n_1 - n_2\n",
        "print(f'A subtração do primeiro valor pelo segundo é: {sub}')"
      ],
      "metadata": {
        "colab": {
          "base_uri": "https://localhost:8080/"
        },
        "id": "qHwZ_JaLNADN",
        "outputId": "868ac6f7-aad2-4326-cafb-e5d9011ea734"
      },
      "execution_count": 8,
      "outputs": [
        {
          "output_type": "stream",
          "name": "stdout",
          "text": [
            "Digite um número: 50\n",
            "Digite outro número: 25\n",
            "A subtração do primeiro valor pelo segundo é: 25\n"
          ]
        }
      ]
    },
    {
      "cell_type": "code",
      "source": [
        "'''4- Crie um programa que solicite dois valores numéricos à pessoa usuária\n",
        "e imprima a multiplicação dos dois valores.'''\n",
        "num_1 = int(input('Digite um número: '))\n",
        "num2 = int(input('Digite outro número: '))\n",
        "mult = num_1 * num2\n",
        "print(f'A multiplicação dos números que você escolheu é: {mult}')"
      ],
      "metadata": {
        "colab": {
          "base_uri": "https://localhost:8080/"
        },
        "id": "Rz0ad2uLNZNe",
        "outputId": "5258abd0-d268-4806-ec5c-e0f8dc5f44b3"
      },
      "execution_count": 9,
      "outputs": [
        {
          "output_type": "stream",
          "name": "stdout",
          "text": [
            "Digite um número: 5\n",
            "Digite outro número: 9\n",
            "A multiplicação dos números que você escolheu é: 45\n"
          ]
        }
      ]
    },
    {
      "cell_type": "code",
      "source": [
        "'''5- Crie um programa que solicite dois valores numéricos, um numerador e um denominador,\n",
        "e realize a divisão entre os dois valores. Deixe claro que o valor do denominador não pode ser 0.'''\n",
        "numerador1 = int(input('Digite um número diferente de 0: '))\n",
        "denominador1 = int(input('Digite outro número diferente de 0: '))\n",
        "div = numerador1 / denominador1\n",
        "print(f'A divisão dos números que você escolheu é: {div}')"
      ],
      "metadata": {
        "colab": {
          "base_uri": "https://localhost:8080/"
        },
        "id": "Wh4GzDfaNwek",
        "outputId": "11080366-7551-434f-faf8-f376c42e2b37"
      },
      "execution_count": 10,
      "outputs": [
        {
          "output_type": "stream",
          "name": "stdout",
          "text": [
            "Digite um número diferente de 0: 8\n",
            "Digite outro número diferente de 0: 2\n",
            "A divisão dos números que você escolheu é: 4.0\n"
          ]
        }
      ]
    },
    {
      "cell_type": "code",
      "source": [
        "'''6- Crie um código que solicita 3 notas de um estudante e imprima a média das notas.'''\n",
        "nota1 = float(input('Digite a nota 1 do aluno: '))\n",
        "nota2 = float(input('Digite a  nota 2 do aluno: '))\n",
        "nota3 = float(input('Digite a nota 3 do aluno: '))\n",
        "media_ = (nota1 + nota2 + nota3) / 3\n",
        "print(f'A media do aluno é: {media_}')"
      ],
      "metadata": {
        "colab": {
          "base_uri": "https://localhost:8080/"
        },
        "id": "aBEgRJbZQbwO",
        "outputId": "e8f82476-b370-4a55-c9c3-723fd5a6ad1d"
      },
      "execution_count": 13,
      "outputs": [
        {
          "output_type": "stream",
          "name": "stdout",
          "text": [
            "Digite a nota 1 do aluno: 8\n",
            "Digite a  nota 2 do aluno: 7\n",
            "Digite a nota 3 do aluno: 9\n",
            "A media do aluno é: 8.0\n"
          ]
        }
      ]
    },
    {
      "cell_type": "code",
      "source": [
        "'''Editando textos\n",
        "1- Crie uma variável chamada “frase” e atribua a ela uma string de sua escolha.\n",
        "Em seguida, imprima a frase na tela.'''\n",
        "frase = str('Eu sou uma, mas não sou só!')\n",
        "print(frase)"
      ],
      "metadata": {
        "colab": {
          "base_uri": "https://localhost:8080/"
        },
        "id": "dD_gYe_FY8KD",
        "outputId": "d97d426d-c590-4acf-ee42-3ffe25b926d5"
      },
      "execution_count": 15,
      "outputs": [
        {
          "output_type": "stream",
          "name": "stdout",
          "text": [
            "Eu sou uma, mas não sou só!\n"
          ]
        }
      ]
    },
    {
      "cell_type": "code",
      "source": [
        "'''2- Crie um código que solicite uma frase e depois imprima a frase na tela.'''\n",
        "frase1 = str(input('Digite uma frase: '))\n",
        "print(frase1)"
      ],
      "metadata": {
        "colab": {
          "base_uri": "https://localhost:8080/"
        },
        "id": "NPRC9eMeaDQc",
        "outputId": "488cd25f-8e3e-417a-d776-67f5ba2242ce"
      },
      "execution_count": 16,
      "outputs": [
        {
          "output_type": "stream",
          "name": "stdout",
          "text": [
            "Digite uma frase: Tenha a Crise do Riso!\n",
            "Tenha a Crise do Riso!\n"
          ]
        }
      ]
    },
    {
      "cell_type": "code",
      "source": [
        "'''3- Crie um código que solicite uma frase à pessoa usuária e imprima\n",
        "a mesma frase digitada mas com todas as letras maiúsculas.'''\n",
        "frase2 = str(input('Digite uma frase: '))\n",
        "frase2 = frase2.upper()\n",
        "print(frase2)"
      ],
      "metadata": {
        "colab": {
          "base_uri": "https://localhost:8080/"
        },
        "id": "61he7bIAa0q8",
        "outputId": "ae50f0cf-c3e9-49c4-f8a1-88b39d69ddaf"
      },
      "execution_count": 18,
      "outputs": [
        {
          "output_type": "stream",
          "name": "stdout",
          "text": [
            "Digite uma frase: só quem é vai sentir\n",
            "SÓ QUEM É VAI SENTIR\n"
          ]
        }
      ]
    },
    {
      "cell_type": "code",
      "source": [
        "'''4- Crie um código que solicite uma frase à pessoa usuária e imprima a\n",
        "mesma frase digitada mas com todas as letras minúsculas.'''\n",
        "frase3 = str(input('Digite uma frase: '))\n",
        "frase3 = frase3.lower()\n",
        "print(frase3)"
      ],
      "metadata": {
        "colab": {
          "base_uri": "https://localhost:8080/"
        },
        "id": "21ysbfF-bSL8",
        "outputId": "f93993a1-3016-467e-c05f-92dc4b8d289e"
      },
      "execution_count": 19,
      "outputs": [
        {
          "output_type": "stream",
          "name": "stdout",
          "text": [
            "Digite uma frase: A MINHA PAZ É INEGOCIÁVEL\n",
            "a minha paz é inegociável\n"
          ]
        }
      ]
    },
    {
      "cell_type": "code",
      "source": [
        "'''5- Crie uma variável chamada “frase” e atribua a ela uma string de sua escolha.\n",
        "Em seguida, imprima a frase sem espaços em branco no início e no fim.'''\n",
        "texto1 = str(' viver e não ter a vergonha de ser feliz ')\n",
        "texto1 = texto1.strip()\n",
        "print(texto1)"
      ],
      "metadata": {
        "colab": {
          "base_uri": "https://localhost:8080/"
        },
        "id": "GloiDOfhcAVI",
        "outputId": "19581b49-f33f-4561-8006-6bee64119ba0"
      },
      "execution_count": 20,
      "outputs": [
        {
          "output_type": "stream",
          "name": "stdout",
          "text": [
            "viver e não ter a vergonha de ser feliz\n"
          ]
        }
      ]
    },
    {
      "cell_type": "code",
      "source": [
        "'''6- Crie um código que solicite uma frase à pessoa usuária e imprima a mesma\n",
        "frase sem espaços em branco no início e no fim.'''\n",
        "texto2 = str(input('Digite uma frase com espaço no começo e no final:'))\n",
        "texto2 = texto2.strip()\n",
        "print(texto2)"
      ],
      "metadata": {
        "colab": {
          "base_uri": "https://localhost:8080/"
        },
        "id": "U6H1cA0LchJQ",
        "outputId": "8803f6c7-48bb-47fc-86d7-180c1861a5b2"
      },
      "execution_count": 21,
      "outputs": [
        {
          "output_type": "stream",
          "name": "stdout",
          "text": [
            "Digite uma frase com espaço no começo e no final: a vacina salva, o que mata são as antigas do sorriso \n",
            "a vacina salva, o que mata são as antigas do sorriso\n"
          ]
        }
      ]
    },
    {
      "cell_type": "code",
      "source": [
        "'''7- Crie um código que solicite uma frase à pessoa usuária e imprima a mesma\n",
        "frase sem espaços em branco no início e no fim e em letras minúsculas.'''\n",
        "texto3 = str(input('Digite uma frase com espaço no começo e no final:'))\n",
        "texto3 = texto3.strip().lower()\n",
        "print(texto3)"
      ],
      "metadata": {
        "colab": {
          "base_uri": "https://localhost:8080/"
        },
        "id": "p25xAUSVcw9c",
        "outputId": "c312436b-dbef-4144-c885-721b57e2094b"
      },
      "execution_count": 23,
      "outputs": [
        {
          "output_type": "stream",
          "name": "stdout",
          "text": [
            "Digite uma frase com espaço no começo e no final: A GENTE MIRA NO AMOR \n",
            "a gente mira no amor\n"
          ]
        }
      ]
    },
    {
      "cell_type": "code",
      "source": [
        "'''8- Crie um código que solicite uma frase à pessoa usuária e imprima a mesma\n",
        "frase com todas as vogais “e” trocadas pela letra “f”.'''\n",
        "texto4 = str(input('Digite uma frase que tenha a vogal E: '))\n",
        "texto4 = texto4.replace('e','f')\n",
        "print(texto4)"
      ],
      "metadata": {
        "colab": {
          "base_uri": "https://localhost:8080/"
        },
        "id": "HZOHbIAPdQP7",
        "outputId": "22336fbf-e18d-44f2-d70f-b655264b18b2"
      },
      "execution_count": 24,
      "outputs": [
        {
          "output_type": "stream",
          "name": "stdout",
          "text": [
            "Digite uma frase que tenha a vogal E: Sou feliz e agradeço por tudo que Deus me deu.\n",
            "Sou ffliz f agradfço por tudo quf Dfus mf dfu.\n"
          ]
        }
      ]
    },
    {
      "cell_type": "code",
      "source": [
        "'''9- Crie um código que solicite uma frase à pessoa usuária e imprima a\n",
        "mesma frase com todas as vogais “a” trocadas pela caractere “@”.'''\n",
        "texto5 = str(input('Digite uma frase que tenha a vogal A: '))\n",
        "texto5 = texto5.replace('a','@')\n",
        "print(texto5)"
      ],
      "metadata": {
        "colab": {
          "base_uri": "https://localhost:8080/"
        },
        "id": "GsttXF52d8zt",
        "outputId": "13845b19-b138-47e3-8def-91c140a6c51a"
      },
      "execution_count": 27,
      "outputs": [
        {
          "output_type": "stream",
          "name": "stdout",
          "text": [
            "Digite uma frase que tenha a vogal A: amar aprende amando\n",
            "@m@r @prende @m@ndo\n"
          ]
        }
      ]
    },
    {
      "cell_type": "code",
      "source": [
        "'''10- Crie um código que solicite uma frase à pessoa usuária e imprima a mesma\n",
        "frase com todas as consoantes “s” trocadas pelo caractere “$”.'''\n",
        "texto6 = str(input('Digite uma frase que tenha a consoante S: '))\n",
        "texto6 = texto6.replace('s','$')\n",
        "print(texto6)"
      ],
      "metadata": {
        "colab": {
          "base_uri": "https://localhost:8080/"
        },
        "id": "tNVYejuNePPN",
        "outputId": "ab6afccd-9c46-4842-f243-fe62c672f6d8"
      },
      "execution_count": 29,
      "outputs": [
        {
          "output_type": "stream",
          "name": "stdout",
          "text": [
            "Digite uma frase que tenha a consoante S: saudades do tempo, dos velhos momentos\n",
            "$audade$ do tempo, do$ velho$ momento$\n"
          ]
        }
      ]
    }
  ]
}