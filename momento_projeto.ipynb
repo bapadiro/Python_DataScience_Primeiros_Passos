{
  "nbformat": 4,
  "nbformat_minor": 0,
  "metadata": {
    "colab": {
      "provenance": [],
      "authorship_tag": "ABX9TyNjz+HYcr7iUwYps6ugRInX",
      "include_colab_link": true
    },
    "kernelspec": {
      "name": "python3",
      "display_name": "Python 3"
    },
    "language_info": {
      "name": "python"
    }
  },
  "cells": [
    {
      "cell_type": "markdown",
      "metadata": {
        "id": "view-in-github",
        "colab_type": "text"
      },
      "source": [
        "<a href=\"https://colab.research.google.com/github/bapadiro/Python_DataScience_Primeiros_Passos/blob/main/momento_projeto.ipynb\" target=\"_parent\"><img src=\"https://colab.research.google.com/assets/colab-badge.svg\" alt=\"Open In Colab\"/></a>"
      ]
    },
    {
      "cell_type": "code",
      "execution_count": 1,
      "metadata": {
        "colab": {
          "base_uri": "https://localhost:8080/"
        },
        "id": "OP8hJzFEVakH",
        "outputId": "fbdb9268-bb90-4afb-c788-7d6872c6f7b6"
      },
      "outputs": [
        {
          "output_type": "stream",
          "name": "stdout",
          "text": [
            "Porcentagens de crescimento:\n",
            "[75.00000000000001, 57.142857142857125, 51.51515151515153, 56.0, 44.87179487179489, 46.90265486725664, 51.20481927710843, 50.59760956175297, 50.52910052910054]\n"
          ]
        }
      ],
      "source": [
        "# Momento Projeto\n",
        "'''7) Para um estudo envolvendo o nível de multiplicação de bactérias em uma colônia, foi coletado o número de bactérias por dia (em milhares)\n",
        "e pode ser observado a seguir: [1.2, 2.1, 3.3, 5.0, 7.8, 11.3, 16.6, 25.1, 37.8, 56.9]. Tendo esses valores, faça um código que gere uma lista\n",
        "contendo o percentual de crescimento de bactérias por dia, comparando o número de bactérias em cada dia com o número de bactérias do dia anterior.\n",
        "Dica: para calcular o percentual de crescimento usamos a seguinte equação: 100 * (amostra_atual - amostra_passada) / (amostra_passada).'''\n",
        "# Lista de crescimento das bactérias\n",
        "bacterias_colonia = [1.2, 2.1, 3.3, 5.0, 7.8, 11.3, 16.6, 25.1, 37.8, 56.9]\n",
        "# Lista que irá armazenar as porcentagens de crescimento\n",
        "porcentagem_crescimento = []\n",
        "# Vamos percorrer os índices de 1 a 9 para compararmos o valor atual com o passado\n",
        "for i in range(1, len(bacterias_colonia)):\n",
        "  # seguimos o cálculo 100 * (amostra_atual - amostra_passada) / (amostra_passada)\n",
        "  porcentagem = 100 * (bacterias_colonia[i] - bacterias_colonia[i-1]) / (bacterias_colonia[i-1])\n",
        "  # adicionamos o resultado na lista porcentagem_crescimento\n",
        "  porcentagem_crescimento.append(porcentagem)\n",
        "# Resultado\n",
        "print(f'Porcentagens de crescimento:\\n{porcentagem_crescimento}')"
      ]
    },
    {
      "cell_type": "code",
      "source": [
        "# Momento Projeto\n",
        "'''8) Para uma seleção de produtos alimentícios, precisamos separar o conjunto de IDs dados por números inteiros sabendo que os produtos com ID par\n",
        "são doces e os com ID ímpar são amargos. Monte um código que colete 10 IDs. Depois, calcule e mostre a quantidade de produtos doces e amargos.'''\n",
        "# Lista que vai receber os valores de IDs\n",
        "ids = []\n",
        "# Variáveis contadoras de doces e amargos\n",
        "doce = 0\n",
        "amargo = 0\n",
        "\n",
        "# Criamos um laço que vai iterar 10 vezes para receber os 10 IDs\n",
        "for i in range(0,10):\n",
        "  # Coletamos o ID e adicionamos o id na lista\n",
        "  ids.append(int(input(f'Digite o {i+1}° ID: ')))\n",
        "\n",
        "# Ler todos os elementos da lista ids e atribuir à id\n",
        "for id in ids:\n",
        "  # Verificamos se os elementos são pares ou ímpares para fazer a contagem\n",
        "  if id % 2 == 0:\n",
        "    doce += 1\n",
        "  else:\n",
        "    amargo += 1\n",
        "\n",
        "# Resultado\n",
        "print(f'Quantidade de produtos doces: {doce}')\n",
        "print(f'Quantidade de produtos amargos: {amargo}')"
      ],
      "metadata": {
        "colab": {
          "base_uri": "https://localhost:8080/"
        },
        "id": "aqYoAtvXVkD2",
        "outputId": "8ea74cb5-ceda-41dd-eaa1-93f9b91498bf"
      },
      "execution_count": 2,
      "outputs": [
        {
          "output_type": "stream",
          "name": "stdout",
          "text": [
            "Digite o 1° ID: 25\n",
            "Digite o 2° ID: 29\n",
            "Digite o 3° ID: 35\n",
            "Digite o 4° ID: 45\n",
            "Digite o 5° ID: 65\n",
            "Digite o 6° ID: 75\n",
            "Digite o 7° ID: 19\n",
            "Digite o 8° ID: 15\n",
            "Digite o 9° ID: 75\n",
            "Digite o 10° ID: 36\n",
            "Quantidade de produtos doces: 1\n",
            "Quantidade de produtos amargos: 9\n"
          ]
        }
      ]
    },
    {
      "cell_type": "code",
      "source": [
        "# Momento Projeto\n",
        "'''9) Desenvolva um programa que informa a nota de um(a) aluno(a) de acordo com suas respostas. Ele deve pedir a resposta desse(a) aluno(a) para\n",
        "cada questão e é preciso verificar se a resposta foi igual ao gabarito. Cada questão vale um ponto e existem as alternativas A, B, C ou D.'''\n",
        "'''Gabarito da prova:\n",
        "01 - D\n",
        "02 - A\n",
        "03 - C\n",
        "04 - B\n",
        "05 - A\n",
        "06 - D\n",
        "07 - C\n",
        "08 - C\n",
        "09 - A\n",
        "10 - B'''\n",
        "# Inicializamos os dados\n",
        "respostas = [] # Lista para receber as respostas\n",
        "# Lista de gabaritos\n",
        "gabarito = ['D', 'A', 'C', 'B', 'A', 'D', 'C', 'C', 'A', 'B']\n",
        "nota = 0 # Irá acumular a nota total\n",
        "\n",
        "# Recebemos as respostas do aluno\n",
        "for i in range(0, 10):\n",
        "  respostas.append(input(f'Insira a resposta da questão {i + 1}: ').upper())\n",
        "\n",
        "# Verificamos se as respostas são iguais e adicionamos à nota\n",
        "for i in range(0,10):\n",
        "  if respostas[i] == gabarito[i]:\n",
        "    nota += 1\n",
        "\n",
        "# Exibindo nota final\n",
        "print(f'Nota final: {nota}')"
      ],
      "metadata": {
        "colab": {
          "base_uri": "https://localhost:8080/"
        },
        "id": "CbDPnvJaVkIU",
        "outputId": "ba3391f0-4cad-45cd-dcfe-8252824bb2df"
      },
      "execution_count": 4,
      "outputs": [
        {
          "output_type": "stream",
          "name": "stdout",
          "text": [
            "Insira a resposta da questão 1: D\n",
            "Insira a resposta da questão 2: A\n",
            "Insira a resposta da questão 3: C\n",
            "Insira a resposta da questão 4: B\n",
            "Insira a resposta da questão 5: A\n",
            "Insira a resposta da questão 6: D\n",
            "Insira a resposta da questão 7: C\n",
            "Insira a resposta da questão 8: C\n",
            "Insira a resposta da questão 9: A\n",
            "Insira a resposta da questão 10: B\n",
            "Nota final: 10\n"
          ]
        }
      ]
    },
    {
      "cell_type": "code",
      "source": [
        "# Momento Projeto\n",
        "'''10) Um instituto de meteorologia deseja fazer um estudo de temperatura média de cada mês do ano. Para isso, você precisa fazer um\n",
        "ódigo que colete e armazene essas temperaturas médias em uma lista. Depois, calcule a média anual das temperaturas e mostre todas as\n",
        "temperaturas acima da média anual e em que mês elas ocorreram, mostrando os meses por extenso (Janeiro, Fevereiro, etc.).'''\n",
        "# Coletamos a lista de temperaturas\n",
        "temperaturas_mensais = []\n",
        "for i in range(0,12):\n",
        "  temperaturas_mensais.append(float(input(f'Digite a média de temperatura do mês {i+1}: ')))\n",
        "# Criamos uma lista auxiliar para os nomes dos meses\n",
        "meses = ['Janeiro', 'Fevereiro', 'Março', 'Abril', 'Maio', 'Junho', 'Julho', 'Agosto', 'Setembro', 'Outubro', 'Novembro', 'Dezembro']\n",
        "# Calculamos a média\n",
        "media_anual = sum(temperaturas_mensais) / len(temperaturas_mensais)\n",
        "\n",
        "#Resultado\n",
        "print('Temperaturas acima da média em: ')\n",
        "for i in range(0,12):\n",
        "  # Verificamos todas as temperaturas de acordo com a média anual\n",
        "  if temperaturas_mensais[i] > media_anual:\n",
        "    # Como os índices dos meses correspondem às temperaturas,\n",
        "    # podemos imprimir eles sob o mesmo índice\n",
        "    print(meses[i])"
      ],
      "metadata": {
        "colab": {
          "base_uri": "https://localhost:8080/"
        },
        "id": "RmuQUxKCVkLA",
        "outputId": "e5d3b34d-d8b6-4db6-f7c6-c28f2c4cf8b3"
      },
      "execution_count": 5,
      "outputs": [
        {
          "output_type": "stream",
          "name": "stdout",
          "text": [
            "Digite a média de temperatura do mês 1: 30.0\n",
            "Digite a média de temperatura do mês 2: 23.5\n",
            "Digite a média de temperatura do mês 3: 29.5\n",
            "Digite a média de temperatura do mês 4: 27.5\n",
            "Digite a média de temperatura do mês 5: 22.5\n",
            "Digite a média de temperatura do mês 6: 20.5\n",
            "Digite a média de temperatura do mês 7: 19.5\n",
            "Digite a média de temperatura do mês 8: 20.2\n",
            "Digite a média de temperatura do mês 9: 25.5\n",
            "Digite a média de temperatura do mês 10: 27.5\n",
            "Digite a média de temperatura do mês 11: 30.0\n",
            "Digite a média de temperatura do mês 12: 29.5\n",
            "Temperaturas acima da média em: \n",
            "Janeiro\n",
            "Março\n",
            "Abril\n",
            "Setembro\n",
            "Outubro\n",
            "Novembro\n",
            "Dezembro\n"
          ]
        }
      ]
    },
    {
      "cell_type": "code",
      "source": [
        "# Momento Projeto\n",
        "'''11) Uma empresa de e-commerce está interessada em analisar as vendas dos seus produtos. Os dados das vendas foram armazenados em um dicionário:'''\n",
        "{'Produto A': 300, 'Produto B': 80, 'Produto C': 60,\n",
        " 'Produto D': 200, 'Produto E': 250, 'Produto F': 30}\n",
        "''' Escreva um código que calcule o total de vendas e o produto mais vendido.'''\n",
        "# Dicionário de vendas\n",
        "dados_vendas = {'Produto A': 300, 'Produto B': 80, 'Produto C': 60, 'Produto D': 200, 'Produto E': 250, 'Produto F': 30}\n",
        "\n",
        "# Inicializamos as variáveis\n",
        "total_vendas = 0 # Irá somar todos as vendas\n",
        "produto_mais_vendido = '' # Irá armazenar o nome do produto mais vendido\n",
        "unidades_produto_mais_vendido = 0 # Irá armazenar a maior quantidade vendas\n",
        "\n",
        "# Percorremos os valores de chaves e elementos do dicionário\n",
        "for produto in dados_vendas.keys():\n",
        "  # Somamos o total de vendas\n",
        "  total_vendas += dados_vendas[produto]\n",
        "  # Verificamos se valor de venda atual desing (dados_vendas[produto]) é maior que o valor armazenado em unidades_produto_mais_vendido\n",
        "  # Cada vez que dados_vendas[produto] superar o valor em unidades_produto_mais_vendido,\n",
        "  # a variável unidades_produto_mais_vendido vai ser igual à dados_vendas[produto], atribuindo um novo valor\n",
        "  # De forma similar, produto_mais_vendido também é substituído pelo produto atual\n",
        "  if dados_vendas[produto] > unidades_produto_mais_vendido:\n",
        "    unidades_produto_mais_vendido = dados_vendas[produto]\n",
        "    produto_mais_vendido = produto\n",
        "# Resultados\n",
        "print(f'Total de vendas é {total_vendas}')\n",
        "print(f'{produto_mais_vendido} é o mais vendido')"
      ],
      "metadata": {
        "colab": {
          "base_uri": "https://localhost:8080/"
        },
        "id": "Xde0fm2fVkNd",
        "outputId": "fce5dda6-c432-4e71-a93d-b8b4e6debf91"
      },
      "execution_count": 6,
      "outputs": [
        {
          "output_type": "stream",
          "name": "stdout",
          "text": [
            "Total de vendas é 920\n",
            "Produto A é o mais vendido\n"
          ]
        }
      ]
    },
    {
      "cell_type": "code",
      "source": [
        "# Momento Projeto\n",
        "'''12) Uma pesquisa de mercado foi feita para decidir qual design de marca infantil mais agrada as crianças.\n",
        "A pesquisa foi feita e o votos computados podem ser observados abaixo:'''\n",
        "'''\n",
        "Tabela de votos da marca\n",
        "Design 1 - 1334 votos\n",
        "Design 2 - 982 votos\n",
        "Design 3 - 1751 votos\n",
        "Design 4 - 210 votos\n",
        "Design 5 - 1811 votos\n",
        "'''\n",
        "'''Adapte os dados fornecidos para uma estrutura de dicionário. A partir dele, informe o design vencedor e a porcentagem de votos recebidos.'''\n",
        "# Dicionário de votos por design\n",
        "votos = {'Design 1': 1334, 'Design 2': 982, 'Design 3': 1751, 'Design 4': 210, 'Design 5': 1811}\n",
        "\n",
        "# Inicializamos as variáveis\n",
        "total_votos = 0 # Irá somar todos os votos\n",
        "vencedor = '' # Irá armazenar o nome do design vencedor\n",
        "voto_vencedor = 0 # Irá armazenar a quantidade vencedora de votos\n",
        "\n",
        "# Percorremos os valores de chaves e elementos do dicionário\n",
        "for design, voto_desing in votos.items():\n",
        "  # Somamos o total de votos\n",
        "  total_votos += voto_desing\n",
        "  # Verificamos se o voto do atual desing (voto_desing) é maior que o valor armazenado em voto_vencedor\n",
        "  # Cada vez que voto_desing superar o valor em voto_vencedor,\n",
        "  # a variável voto_vencedor vai ser igual à voto_desing, atribuindo um novo valor\n",
        "  # De forma similar, o vencedor também é substituído pelo design\n",
        "  if voto_desing > voto_vencedor:\n",
        "    voto_vencedor = voto_desing\n",
        "    vencedor = design\n",
        "# Calculamos a porcentagem do design vencedor\n",
        "porcentagem = 100 * (voto_vencedor) / (total_votos)\n",
        "\n",
        "#Resultado\n",
        "print(f'{vencedor} é o vencedor: ')\n",
        "print(f'Porcentagem de votos: {porcentagem}%')"
      ],
      "metadata": {
        "colab": {
          "base_uri": "https://localhost:8080/"
        },
        "id": "aFeewvrWVkPs",
        "outputId": "e2c40a7e-10c1-4604-c3d0-5bca8870e10d"
      },
      "execution_count": 7,
      "outputs": [
        {
          "output_type": "stream",
          "name": "stdout",
          "text": [
            "Design 5 é o vencedor: \n",
            "Porcentagem de votos: 29.747043363994745%\n"
          ]
        }
      ]
    },
    {
      "cell_type": "code",
      "source": [
        "# Momento Projeto\n",
        "'''13) As pessoas colaboradoras de um setor da empresa que você trabalha vão receber um abono correspondente a 10% do salário\n",
        "devido ao ótimo desempenho do time. O setor financeiro solicitou sua ajuda para a verificação das consequências financeiras que esse\n",
        "abono irá gerar nos recursos. Assim, foi encaminhada para você uma lista com os salários que receberão o abono:\n",
        "[1172, 1644, 2617, 5130, 5532, 6341, 6650, 7238, 7685, 7782, 7903]. O abono de cada colaborador(a) não pode ser inferior a 200. Em código,\n",
        "transforme cada um dos salários em chaves de um dicionário e o abono de cada salário no elemento. Depois, informe o total de gastos com o abono,\n",
        "quantos(as) colaboradores(as) receberam o abono mínimo e qual o maior valor de abono fornecido.'''\n",
        "# Lista de salários\n",
        "salarios = [1172, 1644, 2617, 5130, 5532, 6341, 6650, 7238, 7685, 7782, 7903]\n",
        "# Inicializamos as variáveis\n",
        "dic_abonos = {} # Dicionário de abonos\n",
        "total_abono = 0 # Irá somar todos os gastos com abono\n",
        "abonos_minimo = 0 # Irá armazenar a quantidade de abonos mínimos\n",
        "maior_abono = 0 # Irá armazenar o maior valor de abono\n",
        "\n",
        "# Percorremos toda a lista de salários\n",
        "for salario in salarios:\n",
        "  # Calculamos o valor teórico de abono\n",
        "  abono = salario * 0.1\n",
        "  # Caso o abono seja inferior a 200,\n",
        "  # ajustamos o valor de abono para o mínimo (200)\n",
        "  if abono < 200:\n",
        "    abono = 200\n",
        "  # Adicionamos um novo dado no dicionário chave abono\n",
        "  dic_abonos[salario] = abono\n",
        "\n",
        "# Percorremos todos os valores do dicionário de abonos\n",
        "for abono in dic_abonos.values():\n",
        "  # Contamos o salário minimo\n",
        "  if abono == 200:\n",
        "    abonos_minimo += 1\n",
        "  # Verificamos se o abono lido é maior que o valor armazenado em maior_abono\n",
        "  # Cada vez que o abono superar o valor de maior_abono,\n",
        "  # a variável maior_abono vai ser igual à abono, atribuindo um novo valor\n",
        "  if abono > maior_abono:\n",
        "    maior_abono = abono\n",
        "  # Somamos os abonos\n",
        "  total_abono += abono\n",
        "# Resultados\n",
        "print(f'Abonos: {dic_abonos}')\n",
        "print(f'Total de gasto com abonos: {total_abono}')\n",
        "print(f'Número de funcionários que receberam o abono mínimo: {abonos_minimo}')\n",
        "print(f'Maior valor de abono: {maior_abono}')"
      ],
      "metadata": {
        "colab": {
          "base_uri": "https://localhost:8080/"
        },
        "id": "z6-7YzmfVkR1",
        "outputId": "cb46420c-52bb-46b5-8ed8-7e8572528080"
      },
      "execution_count": 8,
      "outputs": [
        {
          "output_type": "stream",
          "name": "stdout",
          "text": [
            "Abonos: {1172: 200, 1644: 200, 2617: 261.7, 5130: 513.0, 5532: 553.2, 6341: 634.1, 6650: 665.0, 7238: 723.8000000000001, 7685: 768.5, 7782: 778.2, 7903: 790.3000000000001}\n",
            "Total de gasto com abonos: 6087.8\n",
            "Número de funcionários que receberam o abono mínimo: 2\n",
            "Maior valor de abono: 790.3000000000001\n"
          ]
        }
      ]
    },
    {
      "cell_type": "code",
      "source": [
        "# Momento Projeto\n",
        "'''14) Uma equipe de cientistas de dados está estudando a diversidade biológica em uma floresta. A equipe fez a coleta de informações\n",
        "sobre o número de espécies de plantas e animais em cada área dessa floresta e armazenou essas informações em um dicionário. Nele,\n",
        "a chave descreve a área dos dados e os valores nas listas correspondem às espécies de plantas e animais nas áreas, respectivamente.'''\n",
        "{'Área Norte': [2819, 7236],\n",
        " 'Área Leste': [1440, 9492],\n",
        " 'Área Sul': [5969, 7496],\n",
        " 'Área Oeste': [14446, 49688],\n",
        " 'Área Centro': [22558, 45148]}\n",
        "''' Escreva um código para calcular a média de espécies por área e identificar a área com a maior diversidade biológica.\n",
        "Dica: use as funções built-in sum() e len().'''\n",
        "# Especificamos os dados para um dicionário\n",
        "dados = {'Área Norte': [2819, 7236],\n",
        "         'Área Leste': [1440, 9492],\n",
        "         'Área Sul': [5969, 7496],\n",
        "         'Área Oeste': [14446, 49688],\n",
        "         'Área Centro': [22558, 45148]}\n",
        "# Inicializamos as variáveis\n",
        "soma_media = 0 # Irá somar todas as médias\n",
        "maior_diversidade = '' # Irá armazenar a área com maior diversidade\n",
        "maior_soma = 0 # Irá armazenar a maior soma de espécies\n",
        "# Percorremos os valores de chaves e elementos do dicionário\n",
        "for area, especies in dados.items():\n",
        "  # Fazemos a soma do números de espécies em cada área com a função sum\n",
        "  soma_especies = sum(especies)\n",
        "  # Calculamos a média dividindo a soma das espécies pela quantidade de espécies\n",
        "  media = soma_especies / len(especies)\n",
        "  # Imprimimos\n",
        "  print(f'A {area} tem a média de {media} espécies')\n",
        "  # Verificamos se a soma das espécies é maior que o valor armazenado de maior_soma\n",
        "  # Cada vez que a soma_especies superar o valor de maior_soma,\n",
        "  # a variável maior_soma vai ser igual à soma_especies, atribuindo um novo valor\n",
        "  # De forma similar, maior_diversidade também é substituída\n",
        "  if soma_especies > maior_soma:\n",
        "      maior_soma = soma_especies\n",
        "      maior_diversidade = area\n",
        "  # Somamos as médias\n",
        "  soma_media += media\n",
        "# A média total será dada pela soma_media dividida pela quantidade de áreas\n",
        "media_total = soma_media / len(dados)\n",
        "print(f'Média geral de espécies: {media_total}')\n",
        "print(f'Área com a maior diversidade biológica: {maior_diversidade}')"
      ],
      "metadata": {
        "colab": {
          "base_uri": "https://localhost:8080/"
        },
        "id": "l82hgYdEVvkn",
        "outputId": "cb03a907-88e7-4ee8-e2ec-794b23fd069e"
      },
      "execution_count": 9,
      "outputs": [
        {
          "output_type": "stream",
          "name": "stdout",
          "text": [
            "A Área Norte tem a média de 5027.5 espécies\n",
            "A Área Leste tem a média de 5466.0 espécies\n",
            "A Área Sul tem a média de 6732.5 espécies\n",
            "A Área Oeste tem a média de 32067.0 espécies\n",
            "A Área Centro tem a média de 33853.0 espécies\n",
            "Média geral de espécies: 16629.2\n",
            "Área com a maior diversidade biológica: Área Centro\n"
          ]
        }
      ]
    },
    {
      "cell_type": "code",
      "source": [
        "# Momento Projeto\n",
        "'''15) O setor de RH da sua empresa te pediu uma ajuda para analisar as idades de colaboradores(as) de 4 setores da empresa.\n",
        "Para isso, foram fornecidos os seguintes dados:'''\n",
        "{'Setor A': [22, 26, 30, 30, 35, 38, 40, 56, 57, 65],\n",
        " 'Setor B': [22, 24, 26, 33, 41, 49, 50, 54, 60, 64],\n",
        " 'Setor C': [23, 26, 26, 29, 34, 35, 36, 41, 52, 56],\n",
        " 'Setor D': [19, 20, 25, 27, 34, 39, 42, 44, 50, 65]}\n",
        "''' Sabendo que cada setor tem 10 colaboradores(as), construa um código que calcule a média de idade de cada setor,\n",
        "a idade média geral entre todos os setores e quantas pessoas estão acima da idade média geral.'''\n",
        "# Especificamos os dados para um dicionário\n",
        "dados = {'Setor A': [22, 26, 30, 30, 35, 38, 40, 56, 57, 65],\n",
        "        'Setor B': [22, 24, 26, 33, 41, 49, 50, 54, 60, 64],\n",
        "        'Setor C': [23, 26, 26, 29, 34, 35, 36, 41, 52, 56],\n",
        "        'Setor D': [19, 20, 25, 27, 34, 39, 42, 44, 50, 65]}\n",
        "# Inicializamos a variável que irá somar todas as idades\n",
        "total_idades = 0\n",
        "# Percorremos os valores de chaves e elementos do dicionário\n",
        "for setor, idades in dados.items():\n",
        "  # Calculamos a média dividindo a soma das idades pela quantidade funcionários em cada setor\n",
        "  media_idade = sum(idades) / len(idades)\n",
        "  # Imprimimos\n",
        "  print(f'O {setor} tem a média de {media_idade}')\n",
        "  # Somamos as médias\n",
        "  total_idades += sum(idades)\n",
        "# A média total será dada pela total_idades dividida pela quantidade de pessoas totais (setores * funcionários por setor)\n",
        "media_total = total_idades / (len(idades) * len(dados))\n",
        "print(f'A média de idade geral é {media_total}')\n",
        "\n",
        "# Inicializamos a variável que irá contar todas pessoas com idade acima da média\n",
        "acima_media = 0\n",
        "# Percorremos novamente os valores de chaves e elementos do dicionário\n",
        "for setor, idades in dados.items():\n",
        "  # Lemos os elementos (idades) dentro de cada lista de idades no dicionário\n",
        "  for id in idades:\n",
        "    # Verificamos se o valor da idade é superior à média total\n",
        "    if id > media_total:\n",
        "      # Caso o valor da idade seja superior à média, incrementamos mais um no contador\n",
        "      acima_media += 1\n",
        "# Resultado\n",
        "print(f'{acima_media} pessoas estão acima da idade média geral')"
      ],
      "metadata": {
        "colab": {
          "base_uri": "https://localhost:8080/"
        },
        "id": "YkKybUrSVvnK",
        "outputId": "9271b245-a11e-41a1-ae23-3db2c273b289"
      },
      "execution_count": 10,
      "outputs": [
        {
          "output_type": "stream",
          "name": "stdout",
          "text": [
            "O Setor A tem a média de 39.9\n",
            "O Setor B tem a média de 42.3\n",
            "O Setor C tem a média de 35.8\n",
            "O Setor D tem a média de 36.5\n",
            "A média de idade geral é 38.625\n",
            "18 pessoas estão acima da idade média geral\n"
          ]
        }
      ]
    }
  ]
}