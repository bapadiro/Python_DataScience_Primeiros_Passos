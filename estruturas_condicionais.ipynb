{
  "nbformat": 4,
  "nbformat_minor": 0,
  "metadata": {
    "colab": {
      "provenance": [],
      "toc_visible": true,
      "authorship_tag": "ABX9TyOfs5WlLW1Nvwm7NOmzZ7Yg",
      "include_colab_link": true
    },
    "kernelspec": {
      "name": "python3",
      "display_name": "Python 3"
    },
    "language_info": {
      "name": "python"
    }
  },
  "cells": [
    {
      "cell_type": "markdown",
      "metadata": {
        "id": "view-in-github",
        "colab_type": "text"
      },
      "source": [
        "<a href=\"https://colab.research.google.com/github/bapadiro/Python_DataScience_Primeiros_Passos/blob/main/estruturas_condicionais.ipynb\" target=\"_parent\"><img src=\"https://colab.research.google.com/assets/colab-badge.svg\" alt=\"Open In Colab\"/></a>"
      ]
    },
    {
      "cell_type": "markdown",
      "source": [
        "##Estruturas IF, ELSE e ELIF\n",
        "**IF:** Excecutará o bloco de comandos caso a condição seja verdadeira\n",
        "**ELSE:** É um caso em que a condicional IF seja falsa.\n",
        "**ELIF** é uma palavra chave que significa \"se não, se\""
      ],
      "metadata": {
        "id": "V1ilqtEcD92N"
      }
    },
    {
      "cell_type": "code",
      "execution_count": null,
      "metadata": {
        "id": "TRvegz7Rv50z",
        "colab": {
          "base_uri": "https://localhost:8080/"
        },
        "outputId": "7b5aa231-0701-4cba-dec4-8443a7f2f838"
      },
      "outputs": [
        {
          "output_type": "stream",
          "name": "stdout",
          "text": [
            "condição verdadeira\n"
          ]
        }
      ],
      "source": [
        "''' IF condição\n",
        "  # faça algo'''\n",
        "\n",
        "  if 2 < 7:\n",
        "    print('condição verdadeira')\n",
        "\n",
        "  '''caso contrário não seria print'''"
      ]
    },
    {
      "cell_type": "code",
      "source": [
        "idade_maria = int(input('Digite a idade da Maria: '))\n",
        "idade_beatriz = int(input('Digite a idade da Beatriz: '))\n",
        "\n",
        "if idade_maria > idade_beatriz:\n",
        "  print('Maria é mais velha do que a Beatriz!')"
      ],
      "metadata": {
        "colab": {
          "base_uri": "https://localhost:8080/"
        },
        "id": "KfDxipNiE7J-",
        "outputId": "d68ce553-9919-46b2-e532-83df9ef7dd3e"
      },
      "execution_count": null,
      "outputs": [
        {
          "output_type": "stream",
          "name": "stdout",
          "text": [
            "Digite a idade da Maria: 15\n",
            "Digite a idade da Beatriz: 10\n",
            "Maria é mais velha do que a Beatriz!\n"
          ]
        }
      ]
    },
    {
      "cell_type": "code",
      "source": [
        "idade_maria = int(input('Digite a idade da Maria: '))\n",
        "idade_beatriz = int(input('Digite a idade da Beatriz: '))\n",
        "\n",
        "if idade_maria < idade_beatriz:\n",
        "  print('Maria é mais nova do que a Beatriz!')"
      ],
      "metadata": {
        "colab": {
          "base_uri": "https://localhost:8080/"
        },
        "id": "30cZt7FSGe0x",
        "outputId": "a75ce1c8-658e-4b70-b03f-7c1dbb1366b4"
      },
      "execution_count": null,
      "outputs": [
        {
          "output_type": "stream",
          "name": "stdout",
          "text": [
            "Digite a idade da Maria: 10\n",
            "Digite a idade da Beatriz: 15\n",
            "Maria é mais nova do que a Beatriz!\n"
          ]
        }
      ]
    },
    {
      "cell_type": "code",
      "source": [
        "empregados_empresa1 = int(input('Digite a quantidade dos empregados da empresa 1: '))\n",
        "empregados_empresa2 = int(input('Digite a quantidade dos empregados da empresa2: '))\n",
        "\n",
        "if empregados_empresa1 >= empregados_empresa2:\n",
        "  print('Empresa 1 tem uma quantidade de empregados maior ou igual a empresa 2!')"
      ],
      "metadata": {
        "colab": {
          "base_uri": "https://localhost:8080/"
        },
        "id": "u_oOh20VGoql",
        "outputId": "0a229f50-4512-46c9-b789-e69702ed31c7"
      },
      "execution_count": null,
      "outputs": [
        {
          "output_type": "stream",
          "name": "stdout",
          "text": [
            "Digite a quantidade dos empregados da empresa 1: 300\n",
            "Digite a quantidade dos empregados da empresa2: 150\n",
            "Empresa 1 tem uma quantidade de empregados maior ou igual a empresa 2!\n"
          ]
        }
      ]
    },
    {
      "cell_type": "code",
      "source": [
        "empregados_empresa1 = int(input('Digite a quantidade dos empregados da empresa 1: '))\n",
        "empregados_empresa2 = int(input('Digite a quantidade dos empregados da empresa2: '))\n",
        "\n",
        "if empregados_empresa1 <= empregados_empresa2:\n",
        "  print('Empresa 1 tem uma quantidade de empregados menor ou igual a empresa 2!')"
      ],
      "metadata": {
        "colab": {
          "base_uri": "https://localhost:8080/"
        },
        "id": "y5ATU_-nHDGi",
        "outputId": "bb67c5b5-c53a-4ba8-ec36-ba49a2bf3341"
      },
      "execution_count": null,
      "outputs": [
        {
          "output_type": "stream",
          "name": "stdout",
          "text": [
            "Digite a quantidade dos empregados da empresa 1: 200\n",
            "Digite a quantidade dos empregados da empresa2: 200\n",
            "Empresa 1 tem uma quantidade de empregados menor ou igual a empresa 2!\n"
          ]
        }
      ]
    },
    {
      "cell_type": "code",
      "source": [
        "livro1 = input('Digite o título do 1º livro: ')\n",
        "livro2 = input('Digite o título do 2º livro: ')\n",
        "\n",
        "if livro1 == livro2:\n",
        "  print('os livros tem o mesmo título.')"
      ],
      "metadata": {
        "colab": {
          "base_uri": "https://localhost:8080/"
        },
        "id": "EqZR8TDKHKdk",
        "outputId": "c7b16edd-c9e1-46a4-f0f9-c0fec90e704c"
      },
      "execution_count": null,
      "outputs": [
        {
          "output_type": "stream",
          "name": "stdout",
          "text": [
            "Digite o título do 1º livro: Data Science\n",
            "Digite o título do 2º livro: Data Science\n",
            "os livros tem o mesmo título.\n"
          ]
        }
      ]
    },
    {
      "cell_type": "code",
      "source": [
        "livro1 = input('Digite o título do 1º livro: ')\n",
        "livro2 = input('Digite o título do 2º livro: ')\n",
        "\n",
        "if livro1 != livro2:\n",
        "  print('os livros tem o título diferentes.')"
      ],
      "metadata": {
        "colab": {
          "base_uri": "https://localhost:8080/"
        },
        "id": "fWo_8AKpHgXd",
        "outputId": "793e47d6-ca47-43df-977d-76b4aa1f27df"
      },
      "execution_count": null,
      "outputs": [
        {
          "output_type": "stream",
          "name": "stdout",
          "text": [
            "Digite o título do 1º livro: Python para Análise de Dados\n",
            "Digite o título do 2º livro: Python para Data Science\n",
            "os livros tem o título diferentes.\n"
          ]
        }
      ]
    },
    {
      "cell_type": "markdown",
      "source": [
        "##Exemplo 1\n",
        "recebemos a média dos estudantes e precisamos de um algoritimo que execute a análise e decida se o estudante está **aprovado** ou **reprovado**, mostrando uma mensagem de resultado. Para ser aprovado, a média precisa ser igual ou superior à 6.0."
      ],
      "metadata": {
        "id": "0_fttILrH3Uw"
      }
    },
    {
      "cell_type": "code",
      "source": [
        "media = float(input('Digite a média do aluno: '))\n",
        "\n",
        "if media >= 6.0:\n",
        "  print('Aluno(a) Aprovado(a).')\n",
        "else:\n",
        "  print('Aluno(a) Reprovado(a).')"
      ],
      "metadata": {
        "colab": {
          "base_uri": "https://localhost:8080/"
        },
        "id": "PdGUjoYBHuVl",
        "outputId": "2f600532-7058-48f1-b7e8-a000aa245d02"
      },
      "execution_count": null,
      "outputs": [
        {
          "output_type": "stream",
          "name": "stdout",
          "text": [
            "Digite a média do aluno: 4.0\n",
            "Aluno(a) Reprovado(a).\n"
          ]
        }
      ]
    },
    {
      "cell_type": "markdown",
      "source": [
        "##Exemplo 2\n",
        "A instituição de ensino lançou uma nota oficial, o aluno que tiver a media entre 4.0 e 6.0 podem fazer o teste de recuperação nas férias, então podemos fazer um conjunto de **IFS** para que possamos estruturar essa nova condição"
      ],
      "metadata": {
        "id": "O3lwhjBnJFgf"
      }
    },
    {
      "cell_type": "code",
      "source": [
        "media = float(input('Digite a média do aluno: '))\n",
        "\n",
        "if media >= 6.0:\n",
        "  print('Aluno(a) Aprovado(a)')\n",
        "if 6.0 > media >= 4.0:\n",
        "  print('Aluno(a) Recuperação')\n",
        "if media < 4.0:\n",
        "  print('Aluno(a) Reprovado(a)')"
      ],
      "metadata": {
        "colab": {
          "base_uri": "https://localhost:8080/"
        },
        "id": "cRwwTX7OI4dq",
        "outputId": "b9184011-377b-46a8-8bc7-24b110169ade"
      },
      "execution_count": null,
      "outputs": [
        {
          "output_type": "stream",
          "name": "stdout",
          "text": [
            "Digite a média do aluno: 5.0\n",
            "Aluno(a) Recuperação\n"
          ]
        }
      ]
    },
    {
      "cell_type": "code",
      "source": [
        "'''if condição 1 [falso]\n",
        "  faça algo\n",
        "elif condição 2\n",
        "  faça algo 2\n",
        "elif condição 3\n",
        "  faça algo 3\n",
        "else:\n",
        "  faça algo diferente'''\n",
        "\n",
        "media = float(input('Digite a média do aluno: '))\n",
        "if media >= 6.0:\n",
        "  print('Aluno(a) Aprovado(a)')\n",
        "elif 6.0 > media >= 4.0:\n",
        "  print('Aluno(a) Recuperação')\n",
        "else:\n",
        "  print('Aluno(a) Reprovado(a)')\n"
      ],
      "metadata": {
        "id": "Z1myWQg-LF-2",
        "colab": {
          "base_uri": "https://localhost:8080/"
        },
        "outputId": "43f00e72-49c6-4706-9bfb-ba0f0cb10436"
      },
      "execution_count": null,
      "outputs": [
        {
          "output_type": "stream",
          "name": "stdout",
          "text": [
            "Digite a média do aluno: 5.0\n",
            "Aluno(a) Recuperação\n"
          ]
        }
      ]
    },
    {
      "cell_type": "markdown",
      "source": [
        "##Expressões Lógicas\n",
        "Operando e Operadores lógicos __\n",
        "**Operando: elementos que são comparados ou avaliados em uma expressão lógica e vão retornar True ou False |\n",
        "Operadores:símbolos ou palavras-chave que são usados para combinar operandos em uma eúnica expressão** __ Operando (AND, OR E NOT)"
      ],
      "metadata": {
        "id": "eN1PUOWbKG4w"
      }
    },
    {
      "cell_type": "code",
      "source": [
        "t1 = t2 = True\n",
        "f1 = f2 = False"
      ],
      "metadata": {
        "id": "JvN7gBHwJpEs"
      },
      "execution_count": null,
      "outputs": []
    },
    {
      "cell_type": "code",
      "source": [
        "'''AND só da verdadeiro quando as duas entradas forem verdadeiras'''\n",
        "if t1 and f2:\n",
        "  print('expressão  verdadeira')\n",
        "else:\n",
        "  print('expressão falsa')"
      ],
      "metadata": {
        "colab": {
          "base_uri": "https://localhost:8080/"
        },
        "id": "jJbVbCcyLINu",
        "outputId": "7e37b755-1dd5-415c-fc50-657b75ad3c7a"
      },
      "execution_count": null,
      "outputs": [
        {
          "output_type": "stream",
          "name": "stdout",
          "text": [
            "expressão falsa\n"
          ]
        }
      ]
    },
    {
      "cell_type": "code",
      "source": [
        "'''OR só da entrada falsa quando as duas entradas forem falsas | caso uma seja verdadeira, ela dará a entrada verdadeira'''\n",
        "if t1 or f2:\n",
        "  print('expressão  verdadeira')\n",
        "else:\n",
        "  print('expressão falsa')"
      ],
      "metadata": {
        "colab": {
          "base_uri": "https://localhost:8080/"
        },
        "id": "fXM7gZwPLOpH",
        "outputId": "154d3b23-075e-4430-ad5d-995d3d898f4f"
      },
      "execution_count": null,
      "outputs": [
        {
          "output_type": "stream",
          "name": "stdout",
          "text": [
            "expressão  verdadeira\n"
          ]
        }
      ]
    },
    {
      "cell_type": "code",
      "source": [
        "'''NOT inverte o resultado'''\n",
        "if not t1:\n",
        "  print('expressão  verdadeira')\n",
        "else:\n",
        "  print('expressão falsa')"
      ],
      "metadata": {
        "colab": {
          "base_uri": "https://localhost:8080/"
        },
        "id": "Mrtio5w3LRJt",
        "outputId": "efa89036-81ac-4319-9b41-67e24f00332d"
      },
      "execution_count": null,
      "outputs": [
        {
          "output_type": "stream",
          "name": "stdout",
          "text": [
            "expressão falsa\n"
          ]
        }
      ]
    },
    {
      "cell_type": "code",
      "source": [
        "'''Operador IN [verificar se um elemento está contido dentro de um outro elemento]\n",
        "\n",
        "Uma lista com nomes de estudangtes que foram aprovados por média no semestre,\n",
        "mas é preciso verificar se alguns nomes estão nessa lista para termos os dados corretos\n",
        "nm1 = 'Mariana Rodrigues'\n",
        "nm2 = 'Marcelo Nogueira'''\n",
        "\n",
        "lista = 'José da Silva', 'Maria Oliveira', 'Pedro Martins', 'Ana Souza', 'Carlos Rodrigues', 'Mariana Rodrigues', 'Kim Robert', 'Lucas Batata'\n",
        "lista"
      ],
      "metadata": {
        "colab": {
          "base_uri": "https://localhost:8080/"
        },
        "id": "vM9d1dEKMDoa",
        "outputId": "c23de4ea-f954-4a98-ec4f-d44081991b52"
      },
      "execution_count": null,
      "outputs": [
        {
          "output_type": "execute_result",
          "data": {
            "text/plain": [
              "('José da Silva',\n",
              " 'Maria Oliveira',\n",
              " 'Pedro Martins',\n",
              " 'Ana Souza',\n",
              " 'Carlos Rodrigues',\n",
              " 'Mariana Rodrigues',\n",
              " 'Kim Robert',\n",
              " 'Lucas Batata')"
            ]
          },
          "metadata": {},
          "execution_count": 16
        }
      ]
    },
    {
      "cell_type": "code",
      "source": [
        "nm1 = 'Mariana Rodrigues'\n",
        "nm2 = 'Marcelo Nogueira'"
      ],
      "metadata": {
        "id": "xlY6dJKXM_mF"
      },
      "execution_count": null,
      "outputs": []
    },
    {
      "cell_type": "code",
      "source": [
        "'''exemplo 1'''\n",
        "if nm1 in lista:\n",
        "  print(f'{nm1} está na lista.')\n",
        "else:\n",
        "  print(f'{nm1} não está na lista.')"
      ],
      "metadata": {
        "colab": {
          "base_uri": "https://localhost:8080/"
        },
        "id": "nkH1UuG8NOck",
        "outputId": "1ef4c54f-1058-4b9c-ab7b-1fda0c7d74db"
      },
      "execution_count": null,
      "outputs": [
        {
          "output_type": "stream",
          "name": "stdout",
          "text": [
            "Mariana Rodrigues está na lista.\n"
          ]
        }
      ]
    },
    {
      "cell_type": "code",
      "source": [
        "'''exemplo 2'''\n",
        "if nm1 in lista:\n",
        "  print(f'{nm2} está na lista.')\n",
        "else:\n",
        "  print(f'{nm2} não está na lista.')"
      ],
      "metadata": {
        "colab": {
          "base_uri": "https://localhost:8080/"
        },
        "id": "-Oy36jeGNi9X",
        "outputId": "03dc6a36-ce43-4675-b8a9-6cc4af34aea6"
      },
      "execution_count": null,
      "outputs": [
        {
          "output_type": "stream",
          "name": "stdout",
          "text": [
            "Marcelo Nogueira está na lista.\n"
          ]
        }
      ]
    },
    {
      "cell_type": "markdown",
      "source": [
        "##Desafios na Prática 🚀"
      ],
      "metadata": {
        "id": "edVttd7rO4cM"
      }
    },
    {
      "cell_type": "code",
      "source": [
        "'''1) Escreva um programa que peça à pessoa usuária para fornecer\n",
        "dois números e exibir o número maior.'''\n",
        "num1 = int(input('Digite o primeiro número: '))\n",
        "num2 = int(input('Digite o segundo número: '))\n",
        "if num1 > num2:\n",
        "  print('O primeiro número é maior')\n",
        "else:\n",
        "  print('O primeiro número não é maior')"
      ],
      "metadata": {
        "colab": {
          "base_uri": "https://localhost:8080/"
        },
        "id": "AU5jq-I8PE66",
        "outputId": "a309a27c-980f-4c91-cce2-6226fd4f891e"
      },
      "execution_count": null,
      "outputs": [
        {
          "output_type": "stream",
          "name": "stdout",
          "text": [
            "Digite o primeiro número: 29\n",
            "Digite o segundo número: 25\n",
            "O primeiro número é maior\n"
          ]
        }
      ]
    },
    {
      "cell_type": "code",
      "source": [
        "'''3) Escreva um programa que determine se uma letra fornecida pela pessoa usuária é uma vogal ou consoante.'''\n",
        "lista_vogal = 'a', 'e', 'i', 'o', 'u'\n",
        "lista_vogal\n",
        "usu_vogal = str(input('Digite uma letra: '))\n",
        "usu_vogal = usu_vogal.lower()\n",
        "if usu_vogal in lista_vogal:\n",
        "  print('Você digitou uma vogal')\n",
        "else:\n",
        "  print('Você digitou uma consoante')"
      ],
      "metadata": {
        "colab": {
          "base_uri": "https://localhost:8080/"
        },
        "id": "qMaduaZgQQmB",
        "outputId": "c9236795-5bd5-4b67-b12d-a1ca8b7391ea"
      },
      "execution_count": null,
      "outputs": [
        {
          "output_type": "stream",
          "name": "stdout",
          "text": [
            "Digite uma letra: B\n",
            "Você digitou uma consoante\n"
          ]
        }
      ]
    },
    {
      "cell_type": "code",
      "source": [
        "'''4) Escreva um programa que leia valores médios de preços de um modelo de\n",
        "carro por 3 anos consecutivos e exiba o valor mais alto e mais baixo entre esses três anos.'''\n",
        "preco_ano1 = float(input('Informe o preço médio do carro no primeiro ano: '))\n",
        "preco_ano2 = float(input('Informe o preço médio do carro no segundo ano: '))\n",
        "preco_ano3 = float(input('Informe o preço médio do carro no terceiro ano: '))\n",
        "# Determinamos o maior valor através de comparações\n",
        "maior = preco_ano1\n",
        "if preco_ano2 > maior:\n",
        "  maior = preco_ano2\n",
        "if preco_ano3 > maior:\n",
        "  maior = preco_ano3\n",
        "# Determinamos o menor valor através de comparações\n",
        "menor = preco_ano1\n",
        "if preco_ano2 < menor:\n",
        "  menor = preco_ano2\n",
        "if preco_ano3 < menor:\n",
        "  menor = preco_ano3\n",
        "# Mostramos o resultado\n",
        "print(f'O preço mais alto foi de R$ {maior}.')\n",
        "print(f'O preço mais baixo foi de R$ {menor}.')"
      ],
      "metadata": {
        "id": "13qBH1FmS7XX"
      },
      "execution_count": null,
      "outputs": []
    },
    {
      "cell_type": "code",
      "source": [
        "'''5) Escreva um programa que pergunte sobre o preço de três produtos\n",
        "e indique qual é o produto mais barato para comprar.'''\n",
        "p1 = float(input('Digite o preço do primeiro produto: '))\n",
        "p2 = float(input('Digite o preço do segundo produto: '))\n",
        "p3 = float(input('Digite o preço do terceiro produto: '))\n",
        "\n",
        "# Verificamos qual produto é o mais barato usando o operador lógico 'and'\n",
        "if p1 < p2 and p1 < p3:\n",
        "    print('O primeiro produto é o mais barato.')\n",
        "elif p2 < p1 and p2 < p3:\n",
        "    print('O segundo produto é o mais barato.')\n",
        "elif p3 < p1 and p3 < p2:\n",
        "    print('O terceiro produto é o mais barato.')\n",
        "elif p1 == p2 == p3:\n",
        "    print('Os produtos possuem o mesmo preço.')\n",
        "else:\n",
        "    # Identificamos quais produtos possuem o mesmo preço, se for o caso\n",
        "    if p1 == p2:\n",
        "        print('O primeiro e o segundo produtos são os mais baratos.')\n",
        "    elif p2 == p3:\n",
        "        print('O segundo e terceiro produtos são os mais baratos.')\n",
        "    elif p1 == p3:\n",
        "        print('O primeiro e o terceiro produtos são os mais baratos.')"
      ],
      "metadata": {
        "id": "1evzKS5SPAoZ"
      },
      "execution_count": null,
      "outputs": []
    },
    {
      "cell_type": "code",
      "source": [
        "'''6) Escreva um programa que leia três números e os exiba em ordem decrescente.'''\n",
        "num1 = float(input(\"Digite o primeiro número: \"))\n",
        "num2 = float(input(\"Digite o segundo número: \"))\n",
        "num3 = float(input(\"Digite o terceiro número: \"))\n",
        "numeros = [num1, num2, num3]\n",
        "numeros.sort(reverse=True)\n",
        "print(\"Números em ordem decrescente:\", numeros)"
      ],
      "metadata": {
        "colab": {
          "base_uri": "https://localhost:8080/"
        },
        "id": "zZrSyGpOQ96V",
        "outputId": "a9812f23-0b7a-4571-929d-5bbd50b01a8a"
      },
      "execution_count": null,
      "outputs": [
        {
          "output_type": "stream",
          "name": "stdout",
          "text": [
            "Digite o primeiro número: 15\n",
            "Digite o segundo número: 20\n",
            "Digite o terceiro número: 10\n",
            "Números em ordem decrescente: [20.0, 15.0, 10.0]\n"
          ]
        }
      ]
    },
    {
      "cell_type": "code",
      "source": [
        "'''7) Escreva um programa que pergunte em qual turno a pessoa usuária estuda\n",
        "(\"manhã\", \"tarde\" ou \"noite\") e exiba a mensagem \"Bom Dia!\", \"Boa Tarde!\", \"Boa Noite!\", ou \"Valor Inválido!\",\n",
        " conforme o caso.'''\n",
        "turno = input(\"Em qual turno você estuda? (manhã, tarde ou noite): \").strip().lower()\n",
        "if turno == \"manhã\":\n",
        "    print(\"Bom Dia!\")\n",
        "elif turno == \"tarde\":\n",
        "    print(\"Boa Tarde!\")\n",
        "elif turno == \"noite\":\n",
        "    print(\"Boa Noite!\")\n",
        "else:\n",
        "    print(\"Valor Inválido!\")"
      ],
      "metadata": {
        "colab": {
          "base_uri": "https://localhost:8080/"
        },
        "id": "Kw6FDo02SPz3",
        "outputId": "309a600d-942a-4b87-cf2d-522555cb66fc"
      },
      "execution_count": null,
      "outputs": [
        {
          "output_type": "stream",
          "name": "stdout",
          "text": [
            "Em qual turno você estuda? (manhã, tarde ou noite): noite\n",
            "Boa Noite!\n"
          ]
        }
      ]
    },
    {
      "cell_type": "code",
      "source": [
        "'''8) Escreva um programa que peça um número inteiro à pessoa usuária e determine\n",
        "se ele é par ou ímpar. Dica: Você pode utilizar o operador módulo %.'''\n",
        "num1 = int(input('Digite um número: '))\n",
        "if num1 % 2 == 0:\n",
        "    print(\"O número é par.\")\n",
        "else:\n",
        "    print(\"O número é ímpar.\")"
      ],
      "metadata": {
        "colab": {
          "base_uri": "https://localhost:8080/"
        },
        "id": "hYiRVv51SR-Z",
        "outputId": "661881cb-c67d-4040-b007-e2be8cfa75cb"
      },
      "execution_count": null,
      "outputs": [
        {
          "output_type": "stream",
          "name": "stdout",
          "text": [
            "Digite um número: 4\n",
            "O número é par.\n"
          ]
        }
      ]
    },
    {
      "cell_type": "code",
      "source": [
        "'''9) Escreva um programa que peça um número à pessoa usuária e informe se ele é inteiro ou decimal.'''\n",
        "num1 = float(input(\"Digite um número: \"))\n",
        "if num1.is_integer():\n",
        "    print(\"O número é inteiro.\")\n",
        "else:\n",
        "    print(\"O número é decimal.\")"
      ],
      "metadata": {
        "colab": {
          "base_uri": "https://localhost:8080/"
        },
        "id": "HUUeh0FVS7Iv",
        "outputId": "77f49ba4-f748-4504-ced5-2481f7d90a6d"
      },
      "execution_count": null,
      "outputs": [
        {
          "output_type": "stream",
          "name": "stdout",
          "text": [
            "Digite um número: 15.5\n",
            "O número é decimal.\n"
          ]
        }
      ]
    },
    {
      "cell_type": "code",
      "source": [],
      "metadata": {
        "id": "-UeD3lS0TcBh"
      },
      "execution_count": null,
      "outputs": []
    }
  ]
}