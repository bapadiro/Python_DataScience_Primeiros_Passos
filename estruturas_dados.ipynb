{
  "nbformat": 4,
  "nbformat_minor": 0,
  "metadata": {
    "colab": {
      "provenance": [],
      "authorship_tag": "ABX9TyPG1LSqz15sCAmCC2WsSKo/",
      "include_colab_link": true
    },
    "kernelspec": {
      "name": "python3",
      "display_name": "Python 3"
    },
    "language_info": {
      "name": "python"
    }
  },
  "cells": [
    {
      "cell_type": "markdown",
      "metadata": {
        "id": "view-in-github",
        "colab_type": "text"
      },
      "source": [
        "<a href=\"https://colab.research.google.com/github/bapadiro/Python_DataScience_Primeiros_Passos/blob/main/estruturas_dados.ipynb\" target=\"_parent\"><img src=\"https://colab.research.google.com/assets/colab-badge.svg\" alt=\"Open In Colab\"/></a>"
      ]
    },
    {
      "cell_type": "markdown",
      "source": [
        "## Dados Estruturados\n",
        "**Listas: [exemplo]** armazenam vários elementos em ordem idependente do tipo de dado |\n",
        "**Dicionários: {exemplo}** categoriza os dados, definindo os indices, classificados por: indice = chave | chave = valor"
      ],
      "metadata": {
        "id": "K-46euQ_rleT"
      }
    },
    {
      "cell_type": "markdown",
      "source": [
        "##**LISTAS**"
      ],
      "metadata": {
        "id": "xLNC9L1z8qix"
      }
    },
    {
      "cell_type": "code",
      "execution_count": null,
      "metadata": {
        "colab": {
          "base_uri": "https://localhost:8080/"
        },
        "id": "gZ9pBSqlrf5-",
        "outputId": "24b85edf-006b-4587-f2bd-8761a2fd3ba0"
      },
      "outputs": [
        {
          "output_type": "execute_result",
          "data": {
            "text/plain": [
              "['Fabrício Daniel', 9.5, 9.0, 8.0, True]"
            ]
          },
          "metadata": {},
          "execution_count": 1
        }
      ],
      "source": [
        "# 1º inicia com 0, ou seja o nome 'Fabrício Daniel' está na posição 0\n",
        "# 2º inicia com - (a contar os dados que contém na lista, finalizanod com -1), ou seja o nome 'Fabrício Daniel' é a posição -5\n",
        "lista = ['Fabrício Daniel', 9.5, 9.0, 8.0, True]\n",
        "lista"
      ]
    },
    {
      "cell_type": "code",
      "source": [
        "lista[0]"
      ],
      "metadata": {
        "colab": {
          "base_uri": "https://localhost:8080/",
          "height": 35
        },
        "id": "GxKw6B93sq7u",
        "outputId": "e2095ba6-f7e7-4ed3-d9d8-949cc865c4d1"
      },
      "execution_count": null,
      "outputs": [
        {
          "output_type": "execute_result",
          "data": {
            "text/plain": [
              "'Fabrício Daniel'"
            ],
            "application/vnd.google.colaboratory.intrinsic+json": {
              "type": "string"
            }
          },
          "metadata": {},
          "execution_count": 2
        }
      ]
    },
    {
      "cell_type": "code",
      "source": [
        "lista[1]"
      ],
      "metadata": {
        "colab": {
          "base_uri": "https://localhost:8080/"
        },
        "id": "ET2qn0KXtYLO",
        "outputId": "d09c8ff2-90cc-474f-8fab-33d6ebf3f437"
      },
      "execution_count": null,
      "outputs": [
        {
          "output_type": "execute_result",
          "data": {
            "text/plain": [
              "9.5"
            ]
          },
          "metadata": {},
          "execution_count": 3
        }
      ]
    },
    {
      "cell_type": "code",
      "source": [
        "lista[-1]"
      ],
      "metadata": {
        "colab": {
          "base_uri": "https://localhost:8080/"
        },
        "id": "8CEuwtN-tZ3B",
        "outputId": "c6b35e0a-d43c-4010-c742-3ce6fe05ad91"
      },
      "execution_count": null,
      "outputs": [
        {
          "output_type": "execute_result",
          "data": {
            "text/plain": [
              "True"
            ]
          },
          "metadata": {},
          "execution_count": 4
        }
      ]
    },
    {
      "cell_type": "code",
      "source": [
        "# trabalhando com listas + for [boas práticas]\n",
        "for elemento in lista: # for criar in criado\n",
        "  print(elemento)"
      ],
      "metadata": {
        "colab": {
          "base_uri": "https://localhost:8080/"
        },
        "id": "-3cFpF0BtdHZ",
        "outputId": "94d6b5a5-8212-4ee7-d520-a6249f880e28"
      },
      "execution_count": null,
      "outputs": [
        {
          "output_type": "stream",
          "name": "stdout",
          "text": [
            "Fabrício Daniel\n",
            "9.5\n",
            "9.0\n",
            "8.0\n",
            "True\n"
          ]
        }
      ]
    },
    {
      "cell_type": "code",
      "source": [
        "'''A nota do Fabrício Daniel precisa ser ajustada, pois ganhou 2 pontos em sua última nota por fazer\n",
        "um trabalho de turma. Então é necessário fazer uma troca no valor do indíce 3 de 8.0 para 10.0'''\n",
        "lista[3] = 10.0\n",
        "lista"
      ],
      "metadata": {
        "colab": {
          "base_uri": "https://localhost:8080/"
        },
        "id": "yPHTdTTEtydM",
        "outputId": "a6012390-7ab1-4be6-aee7-74da6f8c4cb8"
      },
      "execution_count": null,
      "outputs": [
        {
          "output_type": "execute_result",
          "data": {
            "text/plain": [
              "['Fabrício Daniel', 9.5, 9.0, 10.0, True]"
            ]
          },
          "metadata": {},
          "execution_count": 8
        }
      ]
    },
    {
      "cell_type": "code",
      "source": [
        "'''Calcular a Media do Fabrício Daniel'''\n",
        "media = (lista[1] + lista[2] + lista[3])/3\n",
        "media"
      ],
      "metadata": {
        "colab": {
          "base_uri": "https://localhost:8080/"
        },
        "id": "s1tm00VMuVkm",
        "outputId": "eeaf648c-8695-4756-e590-4500cdb78b2c"
      },
      "execution_count": null,
      "outputs": [
        {
          "output_type": "execute_result",
          "data": {
            "text/plain": [
              "9.5"
            ]
          },
          "metadata": {},
          "execution_count": 9
        }
      ]
    },
    {
      "cell_type": "code",
      "source": [
        "# transformar str em lista com o metodo .split()\n",
        "# transformando str em lista, usando o ? como referência\n",
        "duvida = 'Quem veio antes? O ovo? Ou foi a serpente?'\n",
        "lista_palavras = duvida.split('?')\n",
        "lista_palavras = [palavra.strip() for palavra in lista_palavras if palavra.strip()]\n",
        "print(lista_palavras)"
      ],
      "metadata": {
        "colab": {
          "base_uri": "https://localhost:8080/"
        },
        "id": "OzsofmLkulUA",
        "outputId": "d4cefb87-08de-42e1-949c-1be515539b42"
      },
      "execution_count": null,
      "outputs": [
        {
          "output_type": "stream",
          "name": "stdout",
          "text": [
            "['Quem veio antes', 'O ovo', 'Ou foi a serpente']\n"
          ]
        }
      ]
    },
    {
      "cell_type": "code",
      "source": [
        "# transformar lista em str com metodo join()\n",
        "# transformando lista em str, usando o . como caracter unificador\n",
        "misturas = ['Tintas: vermelho, azul e amarelo',\n",
        "            'Verde: mistura de azul e amarelo',\n",
        "            'Laranja: mistura de vermelho e amarelo',\n",
        "            'Roxo: mistura de vermelho e azul']\n",
        "unificador = '. '\n",
        "string_misturas = unificador.join(misturas)\n",
        "print(string_misturas)"
      ],
      "metadata": {
        "colab": {
          "base_uri": "https://localhost:8080/"
        },
        "id": "vzL-GAsvvoTL",
        "outputId": "6b7be681-0aa2-463c-ffa5-a038cc0570cd"
      },
      "execution_count": null,
      "outputs": [
        {
          "output_type": "stream",
          "name": "stdout",
          "text": [
            "Tintas: vermelho, azul e amarelo. Verde: mistura de azul e amarelo. Laranja: mistura de vermelho e amarelo. Roxo: mistura de vermelho e azul\n"
          ]
        }
      ]
    },
    {
      "cell_type": "markdown",
      "source": [
        "**Manipulando Listas**"
      ],
      "metadata": {
        "id": "oiGJ2Mzpx6Ew"
      }
    },
    {
      "cell_type": "code",
      "source": [
        "# quantidade de elemento de uma lista, utilizamos o metodo len()\n",
        "len(lista)"
      ],
      "metadata": {
        "colab": {
          "base_uri": "https://localhost:8080/"
        },
        "id": "VesE7fn0xkYQ",
        "outputId": "9a1fa31b-5613-42d6-d17e-da9ddea5ede8"
      },
      "execution_count": null,
      "outputs": [
        {
          "output_type": "execute_result",
          "data": {
            "text/plain": [
              "9"
            ]
          },
          "metadata": {},
          "execution_count": 43
        }
      ]
    },
    {
      "cell_type": "code",
      "source": [
        "# partição técnica utilizada para selecionar um subconjunto de elementos de uma lista\n",
        "# é processada utilizando a sintaxe: lista[inicio:fim] |\n",
        "# o fim precisa ser uma casa a mais, ou seja se quer finalizar com posição 3, precisa mencionar posição 4\n",
        "lista[1:4]"
      ],
      "metadata": {
        "colab": {
          "base_uri": "https://localhost:8080/"
        },
        "id": "l6OIb_ICyONC",
        "outputId": "374827c8-c394-4103-c254-9110565d8315"
      },
      "execution_count": null,
      "outputs": [
        {
          "output_type": "execute_result",
          "data": {
            "text/plain": [
              "[9.5, 9.0, 10.0]"
            ]
          },
          "metadata": {},
          "execution_count": 44
        }
      ]
    },
    {
      "cell_type": "code",
      "source": [
        "# não especifica a posição inicial, pega desde o 1º\n",
        "lista[:3]"
      ],
      "metadata": {
        "colab": {
          "base_uri": "https://localhost:8080/"
        },
        "id": "k3P_1TGJzEuk",
        "outputId": "465d3929-bc44-4020-95e8-5ac62679d879"
      },
      "execution_count": null,
      "outputs": [
        {
          "output_type": "execute_result",
          "data": {
            "text/plain": [
              "['Fabrício Daniel', 9.5, 9.0]"
            ]
          },
          "metadata": {},
          "execution_count": 45
        }
      ]
    },
    {
      "cell_type": "code",
      "source": [
        "# não especifica a posição final, pega até o final\n",
        "lista[3:]"
      ],
      "metadata": {
        "colab": {
          "base_uri": "https://localhost:8080/"
        },
        "id": "e1gba4RazRPi",
        "outputId": "ef422576-0ef7-42eb-b3a4-f88095a67282"
      },
      "execution_count": null,
      "outputs": [
        {
          "output_type": "execute_result",
          "data": {
            "text/plain": [
              "[10.0, True, 9.5, 10.0, 8.0, 9.0]"
            ]
          },
          "metadata": {},
          "execution_count": 46
        }
      ]
    },
    {
      "cell_type": "code",
      "source": [
        "lista[:]"
      ],
      "metadata": {
        "colab": {
          "base_uri": "https://localhost:8080/"
        },
        "id": "SrjFwPjKzkNv",
        "outputId": "3bcf8620-cca0-4bf0-f760-5a9eeb53bda3"
      },
      "execution_count": null,
      "outputs": [
        {
          "output_type": "execute_result",
          "data": {
            "text/plain": [
              "['Fabrício Daniel', 9.5, 9.0, 10.0, True, 9.5, 10.0, 8.0, 9.0]"
            ]
          },
          "metadata": {},
          "execution_count": 47
        }
      ]
    },
    {
      "cell_type": "code",
      "source": [
        "# adicionar um elemento ao final da lista com metodo append()\n",
        "# utilizando um metodo: nome_objeto.nome_metodo()\n",
        "lista.append(media)\n",
        "lista"
      ],
      "metadata": {
        "colab": {
          "base_uri": "https://localhost:8080/"
        },
        "id": "-MQ1xTZdzoTf",
        "outputId": "c6736f0c-3521-4583-ec83-acb754fb6b80"
      },
      "execution_count": null,
      "outputs": [
        {
          "output_type": "execute_result",
          "data": {
            "text/plain": [
              "['Fabrício Daniel', 9.5, 9.0, 10.0, True, 9.5, 10.0, 8.0, 9.0, 9.5]"
            ]
          },
          "metadata": {},
          "execution_count": 48
        }
      ]
    },
    {
      "cell_type": "code",
      "source": [
        "# adicionar vários elementos ao final da lista com medoto extend()\n",
        "lista.extend([10.0, 8.0, 9.0])\n",
        "lista"
      ],
      "metadata": {
        "colab": {
          "base_uri": "https://localhost:8080/"
        },
        "id": "S5KHhU-M0DfZ",
        "outputId": "a9297774-3a2d-414c-fbb4-2c7c9d551ff0"
      },
      "execution_count": null,
      "outputs": [
        {
          "output_type": "execute_result",
          "data": {
            "text/plain": [
              "['Fabrício Daniel',\n",
              " 9.5,\n",
              " 9.0,\n",
              " 10.0,\n",
              " True,\n",
              " 9.5,\n",
              " 10.0,\n",
              " 8.0,\n",
              " 9.0,\n",
              " 9.5,\n",
              " 10.0,\n",
              " 8.0,\n",
              " 9.0]"
            ]
          },
          "metadata": {},
          "execution_count": 49
        }
      ]
    },
    {
      "cell_type": "code",
      "source": [
        "# remover...\n",
        "# vamos add vários elementos com append, para remove-los\n",
        "lista.append([10.0, 8.0, 9.0])\n",
        "lista"
      ],
      "metadata": {
        "colab": {
          "base_uri": "https://localhost:8080/"
        },
        "id": "9NmoKBf_0ZKD",
        "outputId": "9ec69ff4-4ba0-4980-d433-1c1d8b256ec7"
      },
      "execution_count": null,
      "outputs": [
        {
          "output_type": "execute_result",
          "data": {
            "text/plain": [
              "['Fabrício Daniel',\n",
              " 9.5,\n",
              " 9.0,\n",
              " 10.0,\n",
              " True,\n",
              " 9.5,\n",
              " 10.0,\n",
              " 8.0,\n",
              " 9.0,\n",
              " 9.5,\n",
              " 10.0,\n",
              " 8.0,\n",
              " 9.0,\n",
              " [10.0, 8.0, 9.0]]"
            ]
          },
          "metadata": {},
          "execution_count": 50
        }
      ]
    },
    {
      "cell_type": "code",
      "source": [
        "# remover com metodo remove()\n",
        "lista.remove([10.0, 8.0, 9.0])\n",
        "lista"
      ],
      "metadata": {
        "colab": {
          "base_uri": "https://localhost:8080/"
        },
        "id": "66nkfn3R0s0o",
        "outputId": "4d35175d-3c5d-4c92-862a-22995891fc7d"
      },
      "execution_count": null,
      "outputs": [
        {
          "output_type": "execute_result",
          "data": {
            "text/plain": [
              "['Fabrício Daniel',\n",
              " 9.5,\n",
              " 9.0,\n",
              " 10.0,\n",
              " True,\n",
              " 9.5,\n",
              " 10.0,\n",
              " 8.0,\n",
              " 9.0,\n",
              " 9.5,\n",
              " 10.0,\n",
              " 8.0,\n",
              " 9.0]"
            ]
          },
          "metadata": {},
          "execution_count": 51
        }
      ]
    },
    {
      "cell_type": "code",
      "source": [
        "raca_caes = ['Labrador Retriever',\n",
        "             'Bulldog Francês',\n",
        "             'Pastor Alemão',\n",
        "             'Poodle']\n",
        "raca_caes"
      ],
      "metadata": {
        "colab": {
          "base_uri": "https://localhost:8080/"
        },
        "id": "6HuuUD5i04V3",
        "outputId": "dd97d90a-68ad-4a91-8de9-20b4c22448c9"
      },
      "execution_count": null,
      "outputs": [
        {
          "output_type": "execute_result",
          "data": {
            "text/plain": [
              "['Labrador Retriever', 'Bulldog Francês', 'Pastor Alemão', 'Poodle']"
            ]
          },
          "metadata": {},
          "execution_count": 52
        }
      ]
    },
    {
      "cell_type": "code",
      "source": [
        "# método é o insert() que insere o elemento em uma determinada posição da lista.\n",
        "raca_caes.insert(1, 'Golden Retriever')\n",
        "raca_caes"
      ],
      "metadata": {
        "colab": {
          "base_uri": "https://localhost:8080/"
        },
        "id": "hvBVcFyv4heq",
        "outputId": "534ec41b-384e-4d87-e931-f978131ef0c3"
      },
      "execution_count": null,
      "outputs": [
        {
          "output_type": "execute_result",
          "data": {
            "text/plain": [
              "['Labrador Retriever',\n",
              " 'Golden Retriever',\n",
              " 'Bulldog Francês',\n",
              " 'Pastor Alemão',\n",
              " 'Poodle']"
            ]
          },
          "metadata": {},
          "execution_count": 53
        }
      ]
    },
    {
      "cell_type": "code",
      "source": [
        "# O método pop() remove o elemento de uma determinada posição da lista e o retorna como saída na execução do método.\n",
        "raca_caes.pop(1)\n",
        "raca_caes"
      ],
      "metadata": {
        "colab": {
          "base_uri": "https://localhost:8080/"
        },
        "id": "q-QRKwI_4swA",
        "outputId": "1115b17c-6f95-4404-b751-2a5502f97872"
      },
      "execution_count": null,
      "outputs": [
        {
          "output_type": "execute_result",
          "data": {
            "text/plain": [
              "['Labrador Retriever', 'Bulldog Francês', 'Pastor Alemão', 'Poodle']"
            ]
          },
          "metadata": {},
          "execution_count": 54
        }
      ]
    },
    {
      "cell_type": "code",
      "source": [
        "# O método index() retorna o índice de um elemento específico na lista.\n",
        "raca_caes.index('Poodle')\n",
        "raca_caes"
      ],
      "metadata": {
        "colab": {
          "base_uri": "https://localhost:8080/"
        },
        "id": "Oc8P8sZQ49xi",
        "outputId": "f29f0aeb-0d29-4326-dc46-abf274f2d1ba"
      },
      "execution_count": null,
      "outputs": [
        {
          "output_type": "execute_result",
          "data": {
            "text/plain": [
              "['Labrador Retriever', 'Bulldog Francês', 'Pastor Alemão', 'Poodle']"
            ]
          },
          "metadata": {},
          "execution_count": 55
        }
      ]
    },
    {
      "cell_type": "code",
      "source": [
        "# O método sort() organiza os elementos da lista em ordem crescente ou decrescente.\n",
        "# Caso sejam palavras, a ordem é dada por sequência alfabética ou inversa à ela.\n",
        "raca_caes.sort()\n",
        "raca_caes"
      ],
      "metadata": {
        "colab": {
          "base_uri": "https://localhost:8080/"
        },
        "id": "vgflDE-b5G57",
        "outputId": "5cfb7c6a-d523-4a01-f579-302690453fac"
      },
      "execution_count": null,
      "outputs": [
        {
          "output_type": "execute_result",
          "data": {
            "text/plain": [
              "['Bulldog Francês', 'Labrador Retriever', 'Pastor Alemão', 'Poodle']"
            ]
          },
          "metadata": {},
          "execution_count": 56
        }
      ]
    },
    {
      "cell_type": "markdown",
      "source": [
        "##**DICIONÁRIOS**"
      ],
      "metadata": {
        "id": "OdG60kmW8m_P"
      }
    },
    {
      "cell_type": "code",
      "source": [
        "# dicionario = {chave: valor}\n",
        "\n",
        "dicionario = {\n",
        "    'chave_1': 1,\n",
        "    'chave_2': 2\n",
        "}\n",
        "dicionario"
      ],
      "metadata": {
        "colab": {
          "base_uri": "https://localhost:8080/"
        },
        "id": "OOasQ3W85htJ",
        "outputId": "615af193-7068-4f68-efae-43ed00579375"
      },
      "execution_count": null,
      "outputs": [
        {
          "output_type": "execute_result",
          "data": {
            "text/plain": [
              "{'chave_1': 1, 'chave_2': 2}"
            ]
          },
          "metadata": {},
          "execution_count": 57
        }
      ]
    },
    {
      "cell_type": "code",
      "source": [
        "# Crie um conjunto de dados com informações da matrícula de um aluno\n",
        "# matrícula: 2000168933\n",
        "# dia de cadastro: 25\n",
        "# mês de cadastro: 10\n",
        "# turma: 2E\n",
        "\n",
        "cadastro = {\n",
        "    'matricula': 2000168933,\n",
        "    'dia_cadastro': 25,\n",
        "    'mes_cadastro': 10,\n",
        "    'turma': '2E'\n",
        "}\n",
        "cadastro"
      ],
      "metadata": {
        "colab": {
          "base_uri": "https://localhost:8080/"
        },
        "id": "PrOe9IAc-BAt",
        "outputId": "417b60e1-5f52-4f8e-d87e-26daac09a2fa"
      },
      "execution_count": null,
      "outputs": [
        {
          "output_type": "execute_result",
          "data": {
            "text/plain": [
              "{'matricula': 2000168933,\n",
              " 'dia_cadastro': 25,\n",
              " 'mes_cadastro': 10,\n",
              " 'turma': '2E'}"
            ]
          },
          "metadata": {},
          "execution_count": 1
        }
      ]
    },
    {
      "cell_type": "code",
      "source": [
        "cadastro['matricula']"
      ],
      "metadata": {
        "colab": {
          "base_uri": "https://localhost:8080/"
        },
        "id": "FsUCvvI5ek3o",
        "outputId": "1a346a8b-3647-495f-b1d9-92374c9bb873"
      },
      "execution_count": null,
      "outputs": [
        {
          "output_type": "execute_result",
          "data": {
            "text/plain": [
              "2000168933"
            ]
          },
          "metadata": {},
          "execution_count": 2
        }
      ]
    },
    {
      "cell_type": "code",
      "source": [
        "cadastro['turma']"
      ],
      "metadata": {
        "colab": {
          "base_uri": "https://localhost:8080/",
          "height": 35
        },
        "id": "GVw8_QmSetVE",
        "outputId": "c1c33f1e-d841-4ecd-a3af-a919317d899a"
      },
      "execution_count": null,
      "outputs": [
        {
          "output_type": "execute_result",
          "data": {
            "text/plain": [
              "'2E'"
            ],
            "application/vnd.google.colaboratory.intrinsic+json": {
              "type": "string"
            }
          },
          "metadata": {},
          "execution_count": 3
        }
      ]
    },
    {
      "cell_type": "code",
      "source": [
        "# atualizando a turma do aluno de 2E para 2G\n",
        "cadastro['turma'] = '2G'\n",
        "cadastro"
      ],
      "metadata": {
        "colab": {
          "base_uri": "https://localhost:8080/"
        },
        "id": "78gxDnLdevNV",
        "outputId": "5c3d1699-cc03-4205-cbb3-e5e9483700c9"
      },
      "execution_count": null,
      "outputs": [
        {
          "output_type": "execute_result",
          "data": {
            "text/plain": [
              "{'matricula': 2000168933,\n",
              " 'dia_cadastro': 25,\n",
              " 'mes_cadastro': 10,\n",
              " 'turma': '2G'}"
            ]
          },
          "metadata": {},
          "execution_count": 4
        }
      ]
    },
    {
      "cell_type": "code",
      "source": [
        "# adicionando a chave modalidade com valor EAD\n",
        "cadastro['modalidade'] = 'EAD'\n",
        "cadastro"
      ],
      "metadata": {
        "colab": {
          "base_uri": "https://localhost:8080/"
        },
        "id": "p8Voq7tie9vR",
        "outputId": "132029a4-7c38-44b7-bcc2-bb40b393e5da"
      },
      "execution_count": null,
      "outputs": [
        {
          "output_type": "execute_result",
          "data": {
            "text/plain": [
              "{'matricula': 2000168933,\n",
              " 'dia_cadastro': 25,\n",
              " 'mes_cadastro': 10,\n",
              " 'turma': '2G',\n",
              " 'modalidade': 'EAD'}"
            ]
          },
          "metadata": {},
          "execution_count": 5
        }
      ]
    },
    {
      "cell_type": "code",
      "source": [
        "# remover um item do dicionário e depois o retornar com metodo pop()\n",
        "cadastro.pop('turma')"
      ],
      "metadata": {
        "colab": {
          "base_uri": "https://localhost:8080/",
          "height": 35
        },
        "id": "U597DLjRfMA7",
        "outputId": "6dcb8707-aa60-4bf1-8f02-9fdf5198ea18"
      },
      "execution_count": null,
      "outputs": [
        {
          "output_type": "execute_result",
          "data": {
            "text/plain": [
              "'2G'"
            ],
            "application/vnd.google.colaboratory.intrinsic+json": {
              "type": "string"
            }
          },
          "metadata": {},
          "execution_count": 6
        }
      ]
    },
    {
      "cell_type": "code",
      "source": [
        "cadastro"
      ],
      "metadata": {
        "colab": {
          "base_uri": "https://localhost:8080/"
        },
        "id": "0NrsKQkIga53",
        "outputId": "f2a05a23-686c-4b65-aef4-bfbb63e08c46"
      },
      "execution_count": null,
      "outputs": [
        {
          "output_type": "execute_result",
          "data": {
            "text/plain": [
              "{'matricula': 2000168933,\n",
              " 'dia_cadastro': 25,\n",
              " 'mes_cadastro': 10,\n",
              " 'modalidade': 'EAD'}"
            ]
          },
          "metadata": {},
          "execution_count": 7
        }
      ]
    },
    {
      "cell_type": "code",
      "source": [
        "# metodos de consultas items() - keys() - values()\n",
        "# items() mostra chaves e valores\n",
        "cadastro.items()"
      ],
      "metadata": {
        "colab": {
          "base_uri": "https://localhost:8080/"
        },
        "id": "1QeUbon9gc1i",
        "outputId": "7cd842e0-6de8-41b6-a135-59647363a86a"
      },
      "execution_count": null,
      "outputs": [
        {
          "output_type": "execute_result",
          "data": {
            "text/plain": [
              "dict_items([('matricula', 2000168933), ('dia_cadastro', 25), ('mes_cadastro', 10), ('modalidade', 'EAD')])"
            ]
          },
          "metadata": {},
          "execution_count": 8
        }
      ]
    },
    {
      "cell_type": "code",
      "source": [
        "# keys() mostra somente as chaves\n",
        "cadastro.keys()"
      ],
      "metadata": {
        "colab": {
          "base_uri": "https://localhost:8080/"
        },
        "id": "N06Wl_OdgrLa",
        "outputId": "1991e40a-4d9a-4891-9d3d-ac68500c018d"
      },
      "execution_count": null,
      "outputs": [
        {
          "output_type": "execute_result",
          "data": {
            "text/plain": [
              "dict_keys(['matricula', 'dia_cadastro', 'mes_cadastro', 'modalidade'])"
            ]
          },
          "metadata": {},
          "execution_count": 9
        }
      ]
    },
    {
      "cell_type": "code",
      "source": [
        "# values() mostra somente os valores\n",
        "cadastro.values()"
      ],
      "metadata": {
        "colab": {
          "base_uri": "https://localhost:8080/"
        },
        "id": "8vtgw80rg0Gb",
        "outputId": "c6edf8fc-8ca7-4dbb-e9ed-9c9113f519ff"
      },
      "execution_count": null,
      "outputs": [
        {
          "output_type": "execute_result",
          "data": {
            "text/plain": [
              "dict_values([2000168933, 25, 10, 'EAD'])"
            ]
          },
          "metadata": {},
          "execution_count": 10
        }
      ]
    },
    {
      "cell_type": "code",
      "source": [
        "# leitura de valores com for\n",
        "for chaves in cadastro.keys():\n",
        "  print(cadastro[chaves]) # segue a mesma estrutura nome_dicionario[nome_chaves], no caso nome do elemento for"
      ],
      "metadata": {
        "colab": {
          "base_uri": "https://localhost:8080/"
        },
        "id": "CVII3DRMg5BX",
        "outputId": "f296bef5-ed63-4dc0-e29a-0ae4f9a9292f"
      },
      "execution_count": null,
      "outputs": [
        {
          "output_type": "stream",
          "name": "stdout",
          "text": [
            "2000168933\n",
            "25\n",
            "10\n",
            "EAD\n"
          ]
        }
      ]
    },
    {
      "cell_type": "code",
      "source": [
        "for valores in cadastro.values():\n",
        "  print(valores)"
      ],
      "metadata": {
        "colab": {
          "base_uri": "https://localhost:8080/"
        },
        "id": "qFBbfZhdhfdh",
        "outputId": "b12d23e8-c449-4296-fa8f-49352a1a424b"
      },
      "execution_count": null,
      "outputs": [
        {
          "output_type": "stream",
          "name": "stdout",
          "text": [
            "2000168933\n",
            "25\n",
            "10\n",
            "EAD\n"
          ]
        }
      ]
    },
    {
      "cell_type": "code",
      "source": [
        "for chaves, valores in cadastro.items():\n",
        "  print(chaves, valores)"
      ],
      "metadata": {
        "colab": {
          "base_uri": "https://localhost:8080/"
        },
        "id": "Vri9ExT2hpVi",
        "outputId": "bfcb33ce-49d5-45d2-9ee4-7903a715408c"
      },
      "execution_count": null,
      "outputs": [
        {
          "output_type": "stream",
          "name": "stdout",
          "text": [
            "matricula 2000168933\n",
            "dia_cadastro 25\n",
            "mes_cadastro 10\n",
            "modalidade EAD\n"
          ]
        }
      ]
    },
    {
      "cell_type": "code",
      "source": [
        "# Podemos associar estruturas de dados a outras estruturas de dados, como acontece com as listas dentro de dicionários.\n",
        "loja = {'nomes': ['televisão', 'celular', 'notebook', 'geladeira', 'fogão'],\n",
        "        'precos': [2000, 1500, 3500, 4000, 1500]}\n",
        "loja"
      ],
      "metadata": {
        "colab": {
          "base_uri": "https://localhost:8080/"
        },
        "id": "r1bU9GIXh5RQ",
        "outputId": "a83747a0-98ed-452e-e4cf-9f44516a9800"
      },
      "execution_count": null,
      "outputs": [
        {
          "output_type": "execute_result",
          "data": {
            "text/plain": [
              "{'nomes': ['televisão', 'celular', 'notebook', 'geladeira', 'fogão'],\n",
              " 'precos': [2000, 1500, 3500, 4000, 1500]}"
            ]
          },
          "metadata": {},
          "execution_count": 15
        }
      ]
    },
    {
      "cell_type": "code",
      "source": [
        "# acessando os valores, com um agrupamento for\n",
        "for chave, elementos in loja.items():\n",
        "  print(f'Chave: {chave}\\nElementos:')\n",
        "  for dado in elementos:\n",
        "    print(dado)"
      ],
      "metadata": {
        "colab": {
          "base_uri": "https://localhost:8080/"
        },
        "id": "lIwFwPgCi18G",
        "outputId": "9c2223f8-13b3-4073-84a1-68f5f506d7f5"
      },
      "execution_count": null,
      "outputs": [
        {
          "output_type": "stream",
          "name": "stdout",
          "text": [
            "Chave: nomes\n",
            "Elementos:\n",
            "televisão\n",
            "celular\n",
            "notebook\n",
            "geladeira\n",
            "fogão\n",
            "Chave: precos\n",
            "Elementos:\n",
            "2000\n",
            "1500\n",
            "3500\n",
            "4000\n",
            "1500\n"
          ]
        }
      ]
    },
    {
      "cell_type": "code",
      "source": [
        "# A função sum() permite somar os elementos de uma sequência ou estrutura de dados.\n",
        "# No exemplo a seguir, vamos somar os preços de produtos:\n",
        "precos = [100.0, 400.0, 200.0] # lista\n",
        "soma = sum(precos)\n",
        "soma"
      ],
      "metadata": {
        "colab": {
          "base_uri": "https://localhost:8080/"
        },
        "id": "zew-7MUvi4N6",
        "outputId": "73af1e31-2b3a-44ae-df93-35f21cf35c3b"
      },
      "execution_count": null,
      "outputs": [
        {
          "output_type": "execute_result",
          "data": {
            "text/plain": [
              "700.0"
            ]
          },
          "metadata": {},
          "execution_count": 18
        }
      ]
    },
    {
      "cell_type": "code",
      "source": [
        "# A função help() é usada para acessar a documentação de funções, métodos e outros elementos do Python.\n",
        "# Ela exibe informações em inglês sobre a funcionalidade, sintaxe e uso de um objeto específico.\n",
        "help(print)"
      ],
      "metadata": {
        "colab": {
          "base_uri": "https://localhost:8080/"
        },
        "id": "ZFAHpbF0jPz_",
        "outputId": "5754453e-2e72-4ec1-cd99-2f5e4adea794"
      },
      "execution_count": null,
      "outputs": [
        {
          "output_type": "stream",
          "name": "stdout",
          "text": [
            "Help on built-in function print in module builtins:\n",
            "\n",
            "print(*args, sep=' ', end='\\n', file=None, flush=False)\n",
            "    Prints the values to a stream, or to sys.stdout by default.\n",
            "    \n",
            "    sep\n",
            "      string inserted between values, default a space.\n",
            "    end\n",
            "      string appended after the last value, default a newline.\n",
            "    file\n",
            "      a file-like object (stream); defaults to the current sys.stdout.\n",
            "    flush\n",
            "      whether to forcibly flush the stream.\n",
            "\n"
          ]
        }
      ]
    },
    {
      "cell_type": "code",
      "source": [
        "# Por fim, a função dir() é usada para exibir uma lista de atributos e métodos associados a um elemento.\n",
        "# Por exemplo, vamos descobrir todos os atributos em métodos de uma lista:\n",
        "lista = [1,2,3]\n",
        "dir(lista)"
      ],
      "metadata": {
        "colab": {
          "base_uri": "https://localhost:8080/"
        },
        "id": "9gTHTXN1jamu",
        "outputId": "43952027-fdcb-4ff1-f9fc-9b880369458e"
      },
      "execution_count": null,
      "outputs": [
        {
          "output_type": "execute_result",
          "data": {
            "text/plain": [
              "['__add__',\n",
              " '__class__',\n",
              " '__class_getitem__',\n",
              " '__contains__',\n",
              " '__delattr__',\n",
              " '__delitem__',\n",
              " '__dir__',\n",
              " '__doc__',\n",
              " '__eq__',\n",
              " '__format__',\n",
              " '__ge__',\n",
              " '__getattribute__',\n",
              " '__getitem__',\n",
              " '__getstate__',\n",
              " '__gt__',\n",
              " '__hash__',\n",
              " '__iadd__',\n",
              " '__imul__',\n",
              " '__init__',\n",
              " '__init_subclass__',\n",
              " '__iter__',\n",
              " '__le__',\n",
              " '__len__',\n",
              " '__lt__',\n",
              " '__mul__',\n",
              " '__ne__',\n",
              " '__new__',\n",
              " '__reduce__',\n",
              " '__reduce_ex__',\n",
              " '__repr__',\n",
              " '__reversed__',\n",
              " '__rmul__',\n",
              " '__setattr__',\n",
              " '__setitem__',\n",
              " '__sizeof__',\n",
              " '__str__',\n",
              " '__subclasshook__',\n",
              " 'append',\n",
              " 'clear',\n",
              " 'copy',\n",
              " 'count',\n",
              " 'extend',\n",
              " 'index',\n",
              " 'insert',\n",
              " 'pop',\n",
              " 'remove',\n",
              " 'reverse',\n",
              " 'sort']"
            ]
          },
          "metadata": {},
          "execution_count": 20
        }
      ]
    },
    {
      "cell_type": "code",
      "source": [
        "'''1) Faça um programa que tenha a seguinte lista contendo os valores de gastos de uma empresa de\n",
        "papel [2172.54, 3701.35, 3518.09, 3456.61, 3249.38, 2840.82, 3891.45, 3075.26, 2317.64, 3219.08].\n",
        "Com esses valores, faça um programa que calcule a média de gastos. Dica: use as funções built-in sum() e len().'''\n",
        "# Dados de gastos\n",
        "gastos = [2172.54, 3701.35, 3518.09, 3456.61, 3249.38, 2840.82, 3891.45, 3075.26, 2317.64, 3219.08]\n",
        "\n",
        "# Calculamos a média encontrando o valor total de gastos com sum\n",
        "# e a quantidade total de compras realizadas com len\n",
        "total_gastos = sum(gastos)\n",
        "quantidade_compras = len(gastos)\n",
        "media_gastos = total_gastos / quantidade_compras\n",
        "# Resultado\n",
        "print(f'A média de gastos é {media_gastos} reais.')"
      ],
      "metadata": {
        "id": "W0C8fec7jjKy",
        "colab": {
          "base_uri": "https://localhost:8080/"
        },
        "outputId": "48cce6fc-2166-414e-9d05-30a5221a40eb"
      },
      "execution_count": 1,
      "outputs": [
        {
          "output_type": "stream",
          "name": "stdout",
          "text": [
            "A média de gastos é 3144.222 reais.\n"
          ]
        }
      ]
    },
    {
      "cell_type": "code",
      "source": [
        "'''2) Com os mesmos dados da questão anterior, defina quantas compras foram realizadas acima de 3000 reais e\n",
        "calcule a porcentagem quanto ao total de compras.'''\n",
        "# Dados de gastos\n",
        "gastos = [2172.54, 3701.35, 3518.09, 3456.61, 3249.38, 2840.82, 3891.45, 3075.26, 2317.64, 3219.08]\n",
        "\n",
        "# Variável que vai contar quantas compras foram feitas acima de 3000\n",
        "contador_acima_3000 = 0\n",
        "# Usamos o laço para ler a lista de gastos\n",
        "for gasto in gastos:\n",
        "  # Verificamos se o elemento está acima de 3000\n",
        "  if gasto > 3000:\n",
        "    # Acrescentamos mais um no contador, caso tenha algum valor acima de 3000\n",
        "    contador_acima_3000 += 1\n",
        "\n",
        "# Quantidade Compras\n",
        "# Variável que vai ser utilizada para o cálculo da porcentagem\n",
        "quantidade_compras = len(gastos)\n",
        "\n",
        "\n",
        "# Com a contagem conseguimos calcular a porcentagem de valores acima de 3000 entre todas as compras\n",
        "porcentagem_acima_3000 = 100 * (contador_acima_3000) / (quantidade_compras)\n",
        "\n",
        "# Resultado\n",
        "print(f'{contador_acima_3000} compras foram acima de R$3000,00.')\n",
        "print(f'{porcentagem_acima_3000}% dos gastos foram acima de R$3000,00.')"
      ],
      "metadata": {
        "id": "wgnmJ1JS_VLB",
        "colab": {
          "base_uri": "https://localhost:8080/"
        },
        "outputId": "f67ea23b-d01d-40a8-cff9-a521ca1dd077"
      },
      "execution_count": 2,
      "outputs": [
        {
          "output_type": "stream",
          "name": "stdout",
          "text": [
            "7 compras foram acima de R$3000,00.\n",
            "70.0% dos gastos foram acima de R$3000,00.\n"
          ]
        }
      ]
    },
    {
      "cell_type": "code",
      "source": [
        "'''3) Faça um código que colete em uma lista 5 números inteiros quaisquer e imprima a lista. Exemplo: [1,4,7,2,4].'''\n",
        "# Lista que irá armazenar os 5 números inteiros\n",
        "lista_numeros = []\n",
        "\n",
        "# Criamos um laço que vai iterar 5 vezes para receber os 5 números\n",
        "for i in range(0, 5):\n",
        "  # Coletamos o valor e inserimos na lista por 5 vezes\n",
        "  numero = int(input('Digite um número inteiro: '))\n",
        "  lista_numeros.append(numero)\n",
        "#Resultado\n",
        "print(f'Lista de números inseridos: {lista_numeros}')"
      ],
      "metadata": {
        "id": "ShjynSAE_ZaY",
        "colab": {
          "base_uri": "https://localhost:8080/"
        },
        "outputId": "d41f95a4-1a0c-44fe-d1f8-d008aa3ff0d2"
      },
      "execution_count": 3,
      "outputs": [
        {
          "output_type": "stream",
          "name": "stdout",
          "text": [
            "Digite um número inteiro: 5\n",
            "Digite um número inteiro: 4\n",
            "Digite um número inteiro: 3\n",
            "Digite um número inteiro: 2\n",
            "Digite um número inteiro: 5\n",
            "Lista de números inseridos: [5, 4, 3, 2, 5]\n"
          ]
        }
      ]
    },
    {
      "cell_type": "code",
      "source": [
        "'''4) Colete novamente 5 inteiros e imprima a lista em ordem inversa à enviada.'''\n",
        "# Lista que irá armazenar os 5 números inteiros\n",
        "lista_numeros = []\n",
        "\n",
        "# Criamos um laço que vai iterar 5 vezes para receber os 5 números\n",
        "for i in range(0, 5):\n",
        "  # Coletamos o valor e inserimos na lista por 5 vezes\n",
        "  numero = int(input('Digite um número inteiro: '))\n",
        "  lista_numeros.append(numero)\n",
        "# Usamos da lógica de partição para imprimir o resultado\n",
        "print(f'Lista de números invertida: {lista_numeros[::-1]}')"
      ],
      "metadata": {
        "id": "q21W-2rs_bSN",
        "colab": {
          "base_uri": "https://localhost:8080/"
        },
        "outputId": "1ad07fd0-2a2f-4524-8849-6dbd75161fd0"
      },
      "execution_count": 4,
      "outputs": [
        {
          "output_type": "stream",
          "name": "stdout",
          "text": [
            "Digite um número inteiro: 5\n",
            "Digite um número inteiro: 4\n",
            "Digite um número inteiro: 3\n",
            "Digite um número inteiro: 2\n",
            "Digite um número inteiro: 1\n",
            "Lista de números invertida: [1, 2, 3, 4, 5]\n"
          ]
        }
      ]
    },
    {
      "cell_type": "code",
      "source": [
        "'''5) Faça um programa que, ao inserir um número qualquer, cria uma lista contendo todos os números primos entre 1 e o número digitado.'''\n",
        "# Coletamos o números\n",
        "numero = int(input('Digite um número inteiro: '))\n",
        "# Lista para receber os números primos\n",
        "lista_primos = []\n",
        "# Laço que vai rodar por todos os números abaixo do número digitado\n",
        "for num in range(2, numero):\n",
        "  # Primo é uma bandeira, ela permite sabermos se o valor analisado é ou não primo\n",
        "  primo = True\n",
        "  # Testamos se todos os números abaixo do especificado no primeiro laço podem\n",
        "  # gerar uma divisão exata\n",
        "  for teste_divisiveis in range(2, num):\n",
        "    if num % teste_divisiveis == 0:\n",
        "      # Caso seja divisivel por algum número entendemos que\n",
        "      # o num não é primo e finalizamos o laço interno com break\n",
        "      primo = False\n",
        "      break\n",
        "  # A condição se torna o resultado booleno de primo: False, ignoramos o condicional\n",
        "  # True, executamos o bloco do if\n",
        "  if primo:\n",
        "    lista_primos.append(num)\n",
        "# Resultado\n",
        "print(f'Lista de números primos: {lista_primos}')"
      ],
      "metadata": {
        "id": "dMiMlz5h_ehY",
        "colab": {
          "base_uri": "https://localhost:8080/"
        },
        "outputId": "c7cd335d-5bfb-4158-82ce-1fb14e7e43a9"
      },
      "execution_count": 5,
      "outputs": [
        {
          "output_type": "stream",
          "name": "stdout",
          "text": [
            "Digite um número inteiro: 5\n",
            "Lista de números primos: [2, 3]\n"
          ]
        }
      ]
    },
    {
      "cell_type": "code",
      "source": [
        "'''6) Escreva um programa que peça uma data informando o dia, mês e ano e determine se ela é válida para uma análise.'''\n",
        "# Coletamos a data\n",
        "dia = int(input('Digite o dia: '))\n",
        "mes = int(input('Digite o mês: '))\n",
        "ano = int(input('Digite o ano: '))\n",
        "\n",
        "# Análise de fevereiro\n",
        "if mes == 2:\n",
        "  # Verificamos se é ou não um ano bissexto\n",
        "  if ano % 4 == 0 and (ano % 400 == 0 or ano % 100 != 0):\n",
        "    dias_fevereiro = 29\n",
        "  else:\n",
        "    dias_fevereiro = 28\n",
        "  # Verificamos se o dia colocado corresponde ao máximo de dias de fevereiro\n",
        "  if dia >= 1 and dia <= dias_fevereiro:\n",
        "    print('Data válida')\n",
        "  else:\n",
        "    print('Data inválida')\n",
        "# Verificamos meses terminados em 31 dias\n",
        "elif mes in [1, 3, 5, 7, 8, 10, 12]:\n",
        "  if dia >= 1 and dia <= 31:\n",
        "    print('Data válida')\n",
        "  else:\n",
        "    print('Data inválida')\n",
        "# Verificamos meses terminados em 30 dias\n",
        "elif mes in [4, 6, 9, 11]:\n",
        "  if dia >= 1 and dia <= 30:\n",
        "    print('Data válida')\n",
        "  else:\n",
        "    print('Data inválida')\n",
        "# Caso o mês não esteja entre 1 e 12\n",
        "else:\n",
        "  print('Data inválida')"
      ],
      "metadata": {
        "id": "rABVpoV0_g-e",
        "colab": {
          "base_uri": "https://localhost:8080/"
        },
        "outputId": "4345f6c1-0b40-49f7-ec32-4461b196a6f4"
      },
      "execution_count": 7,
      "outputs": [
        {
          "output_type": "stream",
          "name": "stdout",
          "text": [
            "Digite o dia: 7\n",
            "Digite o mês: 9\n",
            "Digite o ano: 1995\n",
            "Data válida\n"
          ]
        }
      ]
    },
    {
      "cell_type": "code",
      "source": [],
      "metadata": {
        "id": "03pae9eFWfLg"
      },
      "execution_count": null,
      "outputs": []
    }
  ]
}