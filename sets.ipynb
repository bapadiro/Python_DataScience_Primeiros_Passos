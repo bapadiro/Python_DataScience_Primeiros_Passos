{
  "nbformat": 4,
  "nbformat_minor": 0,
  "metadata": {
    "colab": {
      "provenance": [],
      "authorship_tag": "ABX9TyMW2fYrSmp+XP1ZabFz3OV8",
      "include_colab_link": true
    },
    "kernelspec": {
      "name": "python3",
      "display_name": "Python 3"
    },
    "language_info": {
      "name": "python"
    }
  },
  "cells": [
    {
      "cell_type": "markdown",
      "metadata": {
        "id": "view-in-github",
        "colab_type": "text"
      },
      "source": [
        "<a href=\"https://colab.research.google.com/github/bapadiro/Python_DataScience_Primeiros_Passos/blob/main/sets.ipynb\" target=\"_parent\"><img src=\"https://colab.research.google.com/assets/colab-badge.svg\" alt=\"Open In Colab\"/></a>"
      ]
    },
    {
      "cell_type": "markdown",
      "source": [
        "## Sets: Coleção de dados **não-ordenada** | **não permite duplicadas** | **estruturas de daods built-in do python**"
      ],
      "metadata": {
        "id": "4Qr4aQc3ljbn"
      }
    },
    {
      "cell_type": "code",
      "execution_count": 14,
      "metadata": {
        "colab": {
          "base_uri": "https://localhost:8080/"
        },
        "id": "-hA7U5ANlT9S",
        "outputId": "dd8fce66-851f-4e15-a351-fdd362e82b9b"
      },
      "outputs": [
        {
          "output_type": "stream",
          "name": "stdout",
          "text": [
            "{'Dodge Jorney', 'Jetta Variant', 'Crossfox', 'Passat'}\n"
          ]
        }
      ],
      "source": [
        "# criação dos sets\n",
        "carros = {'Jetta Variant', 'Passat', 'Crossfox', 'Dodge Jorney'}\n",
        "print(carros)"
      ]
    },
    {
      "cell_type": "code",
      "source": [
        "# Sets com elementos diferentes\n",
        "elementos_diferentes = {2017, 'Onix', 37123.04, True}\n",
        "print(elementos_diferentes)"
      ],
      "metadata": {
        "colab": {
          "base_uri": "https://localhost:8080/"
        },
        "id": "flQfr2M3mLGH",
        "outputId": "e12f4123-54c9-4b07-dabc-001a4e0fffc5"
      },
      "execution_count": 15,
      "outputs": [
        {
          "output_type": "stream",
          "name": "stdout",
          "text": [
            "{'Onix', 2017, 37123.04, True}\n"
          ]
        }
      ]
    },
    {
      "cell_type": "code",
      "source": [
        "for i in carros:\n",
        "  print(i)"
      ],
      "metadata": {
        "colab": {
          "base_uri": "https://localhost:8080/"
        },
        "id": "bjURX0cFmYtd",
        "outputId": "6c380489-b440-429d-a154-6f7c89570dbb"
      },
      "execution_count": 16,
      "outputs": [
        {
          "output_type": "stream",
          "name": "stdout",
          "text": [
            "Dodge Jorney\n",
            "Jetta Variant\n",
            "Crossfox\n",
            "Passat\n"
          ]
        }
      ]
    },
    {
      "cell_type": "code",
      "source": [
        "# Criando Sets a partir de listas\n",
        "listas_escolas = ['Data Science', 'Programação', 'Front-End', 'Mobile', 'DevOps', 'UX & Design', 'Inovação e Gestão']"
      ],
      "metadata": {
        "id": "SAAXJ0Z_mW5m"
      },
      "execution_count": 17,
      "outputs": []
    },
    {
      "cell_type": "code",
      "source": [
        "escolas_set = set(listas_escolas)\n",
        "print(escolas_set)"
      ],
      "metadata": {
        "colab": {
          "base_uri": "https://localhost:8080/"
        },
        "id": "TRAa86Jkm_s_",
        "outputId": "f325c4c3-3693-4c50-cc0b-65b9b3988fc7"
      },
      "execution_count": 18,
      "outputs": [
        {
          "output_type": "stream",
          "name": "stdout",
          "text": [
            "{'DevOps', 'Inovação e Gestão', 'Front-End', 'Data Science', 'UX & Design', 'Mobile', 'Programação'}\n"
          ]
        }
      ]
    },
    {
      "cell_type": "code",
      "source": [
        "# Trabalhando com elementos repetidos\n",
        "lista_carros = ['Jetta Variant', 'Passat', 'Crossfox', 'Passat', 'Crossfox', 'Jeta Variant', 'Dodge Jorney']\n",
        "nova_lista_carros = set(lista_carros)"
      ],
      "metadata": {
        "id": "VdRjELXznHtN"
      },
      "execution_count": 19,
      "outputs": []
    },
    {
      "cell_type": "code",
      "source": [
        "# utilizando a função len() para verificar a quantidade de elementos\n",
        "print(len(lista_carros))"
      ],
      "metadata": {
        "colab": {
          "base_uri": "https://localhost:8080/"
        },
        "id": "qMSRxNaxnqz4",
        "outputId": "d1b1325b-80ed-455c-e1e1-48292a257ae5"
      },
      "execution_count": 20,
      "outputs": [
        {
          "output_type": "stream",
          "name": "stdout",
          "text": [
            "7\n"
          ]
        }
      ]
    },
    {
      "cell_type": "code",
      "source": [
        "print(nova_lista_carros)"
      ],
      "metadata": {
        "colab": {
          "base_uri": "https://localhost:8080/"
        },
        "id": "goexY2FEn2DO",
        "outputId": "5c5801fa-a48c-47af-ceb4-f93bdd4b1bd1"
      },
      "execution_count": 21,
      "outputs": [
        {
          "output_type": "stream",
          "name": "stdout",
          "text": [
            "{'Jeta Variant', 'Jetta Variant', 'Dodge Jorney', 'Crossfox', 'Passat'}\n"
          ]
        }
      ]
    },
    {
      "cell_type": "code",
      "source": [
        "len(nova_lista_carros)"
      ],
      "metadata": {
        "colab": {
          "base_uri": "https://localhost:8080/"
        },
        "id": "MqlWQkr3n8NP",
        "outputId": "b1282578-4da5-4147-d99c-b8a0db203f56"
      },
      "execution_count": 22,
      "outputs": [
        {
          "output_type": "execute_result",
          "data": {
            "text/plain": [
              "5"
            ]
          },
          "metadata": {},
          "execution_count": 22
        }
      ]
    },
    {
      "cell_type": "code",
      "source": [
        "# Operações, conjuntos (matemática) | operações (disjunção, união, interseção)\n",
        "# Vamos criar conjuntos com os acessórios de alguns modelos de carros, são eles:\n",
        "# Passat, Crossfox e Jetta Variant\n",
        "acessorios_passat = {'Rodas de Liga', 'Travas Elétricas', 'Piloto Automático', 'Central Multimídia'}\n",
        "print(acessorios_passat)"
      ],
      "metadata": {
        "colab": {
          "base_uri": "https://localhost:8080/"
        },
        "id": "eDehgNY2oIrd",
        "outputId": "623cd889-0caf-4d48-f302-e73ed82b1091"
      },
      "execution_count": 23,
      "outputs": [
        {
          "output_type": "stream",
          "name": "stdout",
          "text": [
            "{'Rodas de Liga', 'Piloto Automático', 'Central Multimídia', 'Travas Elétricas'}\n"
          ]
        }
      ]
    },
    {
      "cell_type": "code",
      "source": [
        "acessorios_crossfox = {'Piloto Automático', 'Teto Panorâmico', '4 X 4', 'Central Multimídia'}\n",
        "print(acessorios_crossfox)"
      ],
      "metadata": {
        "colab": {
          "base_uri": "https://localhost:8080/"
        },
        "id": "xuYLRiOmo49N",
        "outputId": "ca26db02-25bf-4c1f-dfcc-39fd6be3b680"
      },
      "execution_count": 24,
      "outputs": [
        {
          "output_type": "stream",
          "name": "stdout",
          "text": [
            "{'Teto Panorâmico', 'Piloto Automático', 'Central Multimídia', '4 X 4'}\n"
          ]
        }
      ]
    },
    {
      "cell_type": "code",
      "source": [
        "acessorios_jetta = {'Controle de Estabilidade', 'Câmbio Automático', 'Travas Elétricas', 'Rodas de Liga'}\n",
        "print(acessorios_jetta)"
      ],
      "metadata": {
        "colab": {
          "base_uri": "https://localhost:8080/"
        },
        "id": "YvQ_a_4-o4_n",
        "outputId": "a24a6ca0-87f9-4817-e257-187dced5003c"
      },
      "execution_count": 25,
      "outputs": [
        {
          "output_type": "stream",
          "name": "stdout",
          "text": [
            "{'Câmbio Automático', 'Travas Elétricas', 'Controle de Estabilidade', 'Rodas de Liga'}\n"
          ]
        }
      ]
    },
    {
      "cell_type": "code",
      "source": [
        "# verificando se os conjuntos são disjuntos com a função set.isdisjoint() | se existe algum elemento em comum.\n",
        "set.isdisjoint(acessorios_passat, acessorios_crossfox)"
      ],
      "metadata": {
        "colab": {
          "base_uri": "https://localhost:8080/"
        },
        "id": "eTpx8ae7kT7x",
        "outputId": "f8a9a8a3-075a-4168-ad2c-41741f99dfed"
      },
      "execution_count": 6,
      "outputs": [
        {
          "output_type": "execute_result",
          "data": {
            "text/plain": [
              "False"
            ]
          },
          "metadata": {},
          "execution_count": 6
        }
      ]
    },
    {
      "cell_type": "code",
      "source": [
        "# interseção - se existe vários elementos em comum\n",
        "acessorios_passat & acessorios_crossfox"
      ],
      "metadata": {
        "colab": {
          "base_uri": "https://localhost:8080/"
        },
        "id": "ON_YlJmoktkh",
        "outputId": "73aeba76-a65e-4a33-d014-c16ee1fa1400"
      },
      "execution_count": 7,
      "outputs": [
        {
          "output_type": "execute_result",
          "data": {
            "text/plain": [
              "{'Central Multimídia', 'Piloto Automático'}"
            ]
          },
          "metadata": {},
          "execution_count": 7
        }
      ]
    },
    {
      "cell_type": "code",
      "source": [
        "acessorios_passat & acessorios_jetta"
      ],
      "metadata": {
        "colab": {
          "base_uri": "https://localhost:8080/"
        },
        "id": "O2v4MY96lADI",
        "outputId": "0c5fca03-320d-4e51-85b2-06691f46f96c"
      },
      "execution_count": 8,
      "outputs": [
        {
          "output_type": "execute_result",
          "data": {
            "text/plain": [
              "{'Rodas de Liga', 'Travas Elétricas'}"
            ]
          },
          "metadata": {},
          "execution_count": 8
        }
      ]
    },
    {
      "cell_type": "code",
      "source": [
        "# se existe elementos em comum ao mesmo tempo\n",
        "set.intersection(acessorios_passat, acessorios_crossfox, acessorios_jetta)"
      ],
      "metadata": {
        "colab": {
          "base_uri": "https://localhost:8080/"
        },
        "id": "B8wgKkEflDfo",
        "outputId": "aec03eb0-55c8-4a04-ca70-463b8250807d"
      },
      "execution_count": 9,
      "outputs": [
        {
          "output_type": "execute_result",
          "data": {
            "text/plain": [
              "set()"
            ]
          },
          "metadata": {},
          "execution_count": 9
        }
      ]
    },
    {
      "cell_type": "code",
      "source": [
        "# união de todos os elementos em conjunto, a soma de todos eles - utilizamos a barra | para signifcar o OU\n",
        "acessorios_passat | acessorios_crossfox"
      ],
      "metadata": {
        "colab": {
          "base_uri": "https://localhost:8080/"
        },
        "id": "HnM0cU_BlM_g",
        "outputId": "ebc84349-acb5-4ab8-9fe4-f53dba14d275"
      },
      "execution_count": 10,
      "outputs": [
        {
          "output_type": "execute_result",
          "data": {
            "text/plain": [
              "{'4 X 4',\n",
              " 'Central Multimídia',\n",
              " 'Piloto Automático',\n",
              " 'Rodas de Liga',\n",
              " 'Teto Panorâmico',\n",
              " 'Travas Elétricas'}"
            ]
          },
          "metadata": {},
          "execution_count": 10
        }
      ]
    },
    {
      "cell_type": "code",
      "source": [
        "set.union(acessorios_passat, acessorios_crossfox, acessorios_jetta, {'Teto Solar'})"
      ],
      "metadata": {
        "colab": {
          "base_uri": "https://localhost:8080/"
        },
        "id": "zBnLiIYGlozq",
        "outputId": "419e72a1-e8c7-49d2-93ee-67af818c67ef"
      },
      "execution_count": 11,
      "outputs": [
        {
          "output_type": "execute_result",
          "data": {
            "text/plain": [
              "{'4 X 4',\n",
              " 'Central Multimídia',\n",
              " 'Controle de Estabilidade',\n",
              " 'Câmbio Automático',\n",
              " 'Piloto Automático',\n",
              " 'Rodas de Liga',\n",
              " 'Teto Panorâmico',\n",
              " 'Teto Solar',\n",
              " 'Travas Elétricas'}"
            ]
          },
          "metadata": {},
          "execution_count": 11
        }
      ]
    },
    {
      "cell_type": "code",
      "source": [
        "# performance do set\n",
        "for i in carros:\n",
        "  print(i)"
      ],
      "metadata": {
        "colab": {
          "base_uri": "https://localhost:8080/"
        },
        "id": "8H1tZ596l3Y3",
        "outputId": "0f5ba502-a3ee-4264-b8b8-0bdba7c88dbf"
      },
      "execution_count": 28,
      "outputs": [
        {
          "output_type": "stream",
          "name": "stdout",
          "text": [
            "Dodge Jorney\n",
            "Jetta Variant\n",
            "Crossfox\n",
            "Passat\n"
          ]
        }
      ]
    },
    {
      "cell_type": "code",
      "source": [
        "'Crossfox' in carros"
      ],
      "metadata": {
        "colab": {
          "base_uri": "https://localhost:8080/"
        },
        "id": "kbAb5y2sl8Cf",
        "outputId": "5f7b2922-2d7a-4126-c3b0-0d5d96bd3fe3"
      },
      "execution_count": 29,
      "outputs": [
        {
          "output_type": "execute_result",
          "data": {
            "text/plain": [
              "True"
            ]
          },
          "metadata": {},
          "execution_count": 29
        }
      ]
    },
    {
      "cell_type": "code",
      "source": [
        "# performance com vários elementos\n",
        "elementos_set = set(range(10000))\n",
        "elementos_list = list(range(10000))\n",
        "elementos_tuple = tuple(range(10000))"
      ],
      "metadata": {
        "id": "pmS0lU2nmaFJ"
      },
      "execution_count": 33,
      "outputs": []
    },
    {
      "cell_type": "code",
      "source": [
        "# verificando se cada num no intervalo especificado pertence ao iterável 'elemento_iteravel'\n",
        "def verificar_elemento_in(elemento_iteravel):\n",
        "  for i in range(10000):\n",
        "    if i in elemento_iteravel:\n",
        "      pass"
      ],
      "metadata": {
        "id": "tD2rY5hNmw78"
      },
      "execution_count": 31,
      "outputs": []
    },
    {
      "cell_type": "code",
      "source": [
        "print('Tempo de execução com Set')\n",
        "%time verificar_elemento_in(elementos_set)\n",
        "print('='*30)\n",
        "\n",
        "print('Tempo de execução com List')\n",
        "%time verificar_elemento_in(elementos_list)\n",
        "print('='*30)\n",
        "\n",
        "print('Tempo de execução com Tuplas')\n",
        "%time verificar_elemento_in(elementos_tuple)\n",
        "print('='*30)"
      ],
      "metadata": {
        "colab": {
          "base_uri": "https://localhost:8080/"
        },
        "id": "84mqau-HnA9p",
        "outputId": "54562aaa-4403-4bdc-d1ec-4a2465ed7bd8"
      },
      "execution_count": 34,
      "outputs": [
        {
          "output_type": "stream",
          "name": "stdout",
          "text": [
            "Tempo de execução com Set\n",
            "CPU times: user 544 µs, sys: 0 ns, total: 544 µs\n",
            "Wall time: 555 µs\n",
            "==============================\n",
            "Tempo de execução com List\n",
            "CPU times: user 580 ms, sys: 0 ns, total: 580 ms\n",
            "Wall time: 583 ms\n",
            "==============================\n",
            "Tempo de execução com Tuplas\n",
            "CPU times: user 571 ms, sys: 0 ns, total: 571 ms\n",
            "Wall time: 572 ms\n",
            "==============================\n"
          ]
        }
      ]
    },
    {
      "cell_type": "markdown",
      "source": [
        "## Conhecemos e aprendemos a utilizar os Sets | Propriedades e interações com listas | Operações com Sets | Como funciona a performance"
      ],
      "metadata": {
        "id": "klr-Nou7oNPX"
      }
    },
    {
      "cell_type": "code",
      "source": [],
      "metadata": {
        "id": "ECO_sf-1oXVu"
      },
      "execution_count": null,
      "outputs": []
    }
  ]
}